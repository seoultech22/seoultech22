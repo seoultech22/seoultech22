{
  "nbformat": 4,
  "nbformat_minor": 0,
  "metadata": {
    "colab": {
      "provenance": [],
      "include_colab_link": true
    },
    "kernelspec": {
      "name": "python3",
      "display_name": "Python 3"
    },
    "language_info": {
      "name": "python"
    }
  },
  "cells": [
    {
      "cell_type": "markdown",
      "metadata": {
        "id": "view-in-github",
        "colab_type": "text"
      },
      "source": [
        "<a href=\"https://colab.research.google.com/github/seoultech22/seoultech22/blob/main/Pandas_%EA%B8%B0%EC%B4%88_%EB%B0%8F_%EC%8B%A4%EC%8A%B5_0308.ipynb\" target=\"_parent\"><img src=\"https://colab.research.google.com/assets/colab-badge.svg\" alt=\"Open In Colab\"/></a>"
      ]
    },
    {
      "cell_type": "markdown",
      "source": [
        "# 모듈/패키지 import\n",
        "* 패키지(package)는 모듈(module)의 묶음입니다. 모듈은 다양한 변수, 함수, 클래스 등을 담고 있고, 패키지는 다양한 모듈을 담고 있습니다.\n",
        "* 이번 시간에는 pandas 패키지에 대해 다뤄볼 것입니다.\n",
        "* pandas는 Python에서 데이터 처리를 하기 위해 개발된 라이브러리로, 데이터 분석과 같은 작업에서는 필수 라이브러리로 알려져 있습니다. pandas 패키지를 불러올 때는 일반적으로로 별칭 '**`pd`**' 로 작성합니다.\n",
        "* Pandas 공식 문서 (영문): https://pandas.pydata.org/docs/user_guide/index.html#user-guide"
      ],
      "metadata": {
        "id": "cWwyjm596e4s"
      }
    },
    {
      "cell_type": "code",
      "execution_count": 6,
      "metadata": {
        "id": "7pcoG_gl0_dK",
        "colab": {
          "base_uri": "https://localhost:8080/"
        },
        "outputId": "bea12a96-8931-471f-b6e3-ff2f3c8e857c"
      },
      "outputs": [
        {
          "output_type": "stream",
          "name": "stdout",
          "text": [
            "pandas version: 1.3.5\n"
          ]
        }
      ],
      "source": [
        "# Pandas 불러오기\n",
        "# import 모듈/패키지 as 별칭\n",
        "import pandas as pd\n",
        "print('pandas version:', pd.__version__)"
      ]
    },
    {
      "cell_type": "markdown",
      "source": [
        "# Pandas 자료구조"
      ],
      "metadata": {
        "id": "ehNtUOUU65o1"
      }
    },
    {
      "cell_type": "markdown",
      "source": [
        "## Series\n",
        "* 1차원 데이터 구조"
      ],
      "metadata": {
        "id": "7bGtBbqA1E0_"
      }
    },
    {
      "cell_type": "markdown",
      "source": [
        "### Series 객체 생성     \n",
        "* 객체 생성\n",
        "  * **`pd.Series(1차원데이터)`**\n",
        "* 인덱스 변경 \n",
        "  * **`시리즈객체.index = 인덱스리스트`**\n",
        "* 시리즈 데이터에 이름 붙이기\n",
        "  * **`시리즈객체.name = 데이터이름`**\n",
        "* 시리즈 인덱스에 이름 붙이기\n",
        "  * **`시리즈객체.index.name = 인덱스이름`**"
      ],
      "metadata": {
        "id": "3XlPrPQcFCvp"
      }
    },
    {
      "cell_type": "code",
      "source": [
        "# Series 객체 생성\n",
        "# a = pd.Series[100,50,30,10] 와 같은 방법으로 한 줄에 입력해도 됩니다.\n",
        "data = [100,50,30,10]\n",
        "a = pd.Series(data)\n",
        "a"
      ],
      "metadata": {
        "id": "VqnhDWLfEk5V",
        "colab": {
          "base_uri": "https://localhost:8080/"
        },
        "outputId": "a569e317-727c-4cd7-e24e-b1280d41eb46"
      },
      "execution_count": 7,
      "outputs": [
        {
          "output_type": "execute_result",
          "data": {
            "text/plain": [
              "0    100\n",
              "1     50\n",
              "2     30\n",
              "3     10\n",
              "dtype: int64"
            ]
          },
          "metadata": {},
          "execution_count": 7
        }
      ]
    },
    {
      "cell_type": "code",
      "source": [
        "# 인덱스 변경\n",
        "a.index = ['A', 'B', 'O', 'AB']\n",
        "a"
      ],
      "metadata": {
        "id": "qvFFRt_xE80b",
        "colab": {
          "base_uri": "https://localhost:8080/"
        },
        "outputId": "3c4b86a8-ddc0-4394-a181-c07bdecf0bb1"
      },
      "execution_count": 8,
      "outputs": [
        {
          "output_type": "execute_result",
          "data": {
            "text/plain": [
              "A     100\n",
              "B      50\n",
              "O      30\n",
              "AB     10\n",
              "dtype: int64"
            ]
          },
          "metadata": {},
          "execution_count": 8
        }
      ]
    },
    {
      "cell_type": "code",
      "source": [
        "# 시리즈객체 네이밍\n",
        "a.name = '혈액형'\n",
        "a"
      ],
      "metadata": {
        "id": "Gj0rcsRZF8Os",
        "colab": {
          "base_uri": "https://localhost:8080/"
        },
        "outputId": "23a2e5ff-dd96-471c-c82b-0617c2f3a3d7"
      },
      "execution_count": 9,
      "outputs": [
        {
          "output_type": "execute_result",
          "data": {
            "text/plain": [
              "A     100\n",
              "B      50\n",
              "O      30\n",
              "AB     10\n",
              "Name: 혈액형, dtype: int64"
            ]
          },
          "metadata": {},
          "execution_count": 9
        }
      ]
    },
    {
      "cell_type": "code",
      "source": [
        "# 인덱스 네이밍\n",
        "a.index.name = '혈액형별 인원 수'\n",
        "a"
      ],
      "metadata": {
        "id": "9ippzfLJGCB9",
        "colab": {
          "base_uri": "https://localhost:8080/"
        },
        "outputId": "b0f4d7ef-80ad-4a97-9671-b59a23291863"
      },
      "execution_count": 10,
      "outputs": [
        {
          "output_type": "execute_result",
          "data": {
            "text/plain": [
              "혈액형별 인원 수\n",
              "A     100\n",
              "B      50\n",
              "O      30\n",
              "AB     10\n",
              "Name: 혈액형, dtype: int64"
            ]
          },
          "metadata": {},
          "execution_count": 10
        }
      ]
    },
    {
      "cell_type": "markdown",
      "source": [
        "### Series 데이터 접근\n",
        "\n",
        "* Series 데이터 접근\n",
        "  * 인덱스와 순번으로 모두 접근할 수 있다.\n",
        "  * **`시리즈객체[인덱스]`**, **`시리즈객체[순번]`**\n",
        "  * **`시리즈객체[인덱스리스트]`**, **`시리즈객체[순번리스트]`**\n",
        "  * **`시리즈객체[인덱스슬라이스]`**, **`시리즈객체[순번슬라이스]`**\n",
        "  * 인덱스로 슬라이스할 때, 끝 인덱스의 데이터 포함"
      ],
      "metadata": {
        "id": "RaNBeZ4-Et26"
      }
    },
    {
      "cell_type": "code",
      "source": [
        "# A형은 몇명인가요?(인덱스)\n",
        "a['A']"
      ],
      "metadata": {
        "id": "uTGn-OjTK5M5",
        "colab": {
          "base_uri": "https://localhost:8080/"
        },
        "outputId": "83d74235-fd58-46ee-ea39-560baf7414d1"
      },
      "execution_count": 11,
      "outputs": [
        {
          "output_type": "execute_result",
          "data": {
            "text/plain": [
              "100"
            ]
          },
          "metadata": {},
          "execution_count": 11
        }
      ]
    },
    {
      "cell_type": "code",
      "source": [
        "# A형은 몇명인가요?(행번호)\n",
        "a[0]"
      ],
      "metadata": {
        "id": "5RSXAhghOH60",
        "colab": {
          "base_uri": "https://localhost:8080/"
        },
        "outputId": "05c02568-00fb-4d6d-a2c6-af1091e0eb4c"
      },
      "execution_count": 12,
      "outputs": [
        {
          "output_type": "execute_result",
          "data": {
            "text/plain": [
              "100"
            ]
          },
          "metadata": {},
          "execution_count": 12
        }
      ]
    },
    {
      "cell_type": "code",
      "source": [
        "# A형, O형은 각각 몇명인가요?(인덱스리스트)\n",
        "a[['A', 'O']]"
      ],
      "metadata": {
        "id": "JPm3nRuvMCKO",
        "colab": {
          "base_uri": "https://localhost:8080/"
        },
        "outputId": "bbf36928-64d5-4b7b-af03-cfcac8dc5a1f"
      },
      "execution_count": 13,
      "outputs": [
        {
          "output_type": "execute_result",
          "data": {
            "text/plain": [
              "혈액형별 인원 수\n",
              "A    100\n",
              "O     30\n",
              "Name: 혈액형, dtype: int64"
            ]
          },
          "metadata": {},
          "execution_count": 13
        }
      ]
    },
    {
      "cell_type": "code",
      "source": [
        "# A형, O형은 각각 몇명인가요?(행번호리스트)\n",
        "a[[0,2]]"
      ],
      "metadata": {
        "id": "t3l547GEBgWO",
        "colab": {
          "base_uri": "https://localhost:8080/"
        },
        "outputId": "d16aefef-1852-4de0-cef2-20c40cd354ad"
      },
      "execution_count": 17,
      "outputs": [
        {
          "output_type": "execute_result",
          "data": {
            "text/plain": [
              "혈액형별 인원 수\n",
              "A    100\n",
              "O     30\n",
              "Name: 혈액형, dtype: int64"
            ]
          },
          "metadata": {},
          "execution_count": 17
        }
      ]
    },
    {
      "cell_type": "code",
      "source": [
        "# A형부터 O형까지 각각 몇명인가요?(인덱스슬라이스)\n",
        "a['A':'O']"
      ],
      "metadata": {
        "id": "Nd96rj2dML7d",
        "colab": {
          "base_uri": "https://localhost:8080/"
        },
        "outputId": "12b78f65-dddf-4ca8-8405-96604295b216"
      },
      "execution_count": 19,
      "outputs": [
        {
          "output_type": "execute_result",
          "data": {
            "text/plain": [
              "혈액형별 인원 수\n",
              "A    100\n",
              "B     50\n",
              "O     30\n",
              "Name: 혈액형, dtype: int64"
            ]
          },
          "metadata": {},
          "execution_count": 19
        }
      ]
    },
    {
      "cell_type": "code",
      "source": [
        "# A형부터 O형까지 각각 몇명인가요?(행번호슬라이스)\n",
        "a[0:3]"
      ],
      "metadata": {
        "id": "cxdoKGvrMOCg",
        "colab": {
          "base_uri": "https://localhost:8080/"
        },
        "outputId": "c37cb6ea-c43f-4485-a6e6-cfda8fe497bd"
      },
      "execution_count": 20,
      "outputs": [
        {
          "output_type": "execute_result",
          "data": {
            "text/plain": [
              "혈액형별 인원 수\n",
              "A    100\n",
              "B     50\n",
              "O     30\n",
              "Name: 혈액형, dtype: int64"
            ]
          },
          "metadata": {},
          "execution_count": 20
        }
      ]
    },
    {
      "cell_type": "markdown",
      "source": [
        "### Series 인덱스 재지정\n",
        "* **`시리즈객체.reset_index()`**     \n",
        "기존 인덱스는 컬럼으로 만들고, 0부터 시작하는 정수로 인덱스를 재지정한다.\n",
        "  * 원본에 반영하려면 inplace=True 옵션을 부여합니다."
      ],
      "metadata": {
        "id": "caXvmj2ZGNk_"
      }
    },
    {
      "cell_type": "code",
      "source": [
        "# 이전에 만들어두었던 a 시리즈 객체는 계속 사용해야 하므로, 별도의 사본 a1를 추가, 지정하겠습니다.\n",
        "a1 = a\n",
        "\n",
        "# a1.reset_index(inplace=True)\n",
        "a1 = a1.reset_index()\n",
        "a1"
      ],
      "metadata": {
        "id": "yfbLsBAhGcVl",
        "colab": {
          "base_uri": "https://localhost:8080/",
          "height": 175
        },
        "outputId": "6a60c060-48ed-4379-f42f-14e8689493f0"
      },
      "execution_count": 21,
      "outputs": [
        {
          "output_type": "execute_result",
          "data": {
            "text/plain": [
              "  혈액형별 인원 수  혈액형\n",
              "0         A  100\n",
              "1         B   50\n",
              "2         O   30\n",
              "3        AB   10"
            ],
            "text/html": [
              "\n",
              "  <div id=\"df-a319fa25-7f81-4c4d-ac4d-6b47ba14aa70\">\n",
              "    <div class=\"colab-df-container\">\n",
              "      <div>\n",
              "<style scoped>\n",
              "    .dataframe tbody tr th:only-of-type {\n",
              "        vertical-align: middle;\n",
              "    }\n",
              "\n",
              "    .dataframe tbody tr th {\n",
              "        vertical-align: top;\n",
              "    }\n",
              "\n",
              "    .dataframe thead th {\n",
              "        text-align: right;\n",
              "    }\n",
              "</style>\n",
              "<table border=\"1\" class=\"dataframe\">\n",
              "  <thead>\n",
              "    <tr style=\"text-align: right;\">\n",
              "      <th></th>\n",
              "      <th>혈액형별 인원 수</th>\n",
              "      <th>혈액형</th>\n",
              "    </tr>\n",
              "  </thead>\n",
              "  <tbody>\n",
              "    <tr>\n",
              "      <th>0</th>\n",
              "      <td>A</td>\n",
              "      <td>100</td>\n",
              "    </tr>\n",
              "    <tr>\n",
              "      <th>1</th>\n",
              "      <td>B</td>\n",
              "      <td>50</td>\n",
              "    </tr>\n",
              "    <tr>\n",
              "      <th>2</th>\n",
              "      <td>O</td>\n",
              "      <td>30</td>\n",
              "    </tr>\n",
              "    <tr>\n",
              "      <th>3</th>\n",
              "      <td>AB</td>\n",
              "      <td>10</td>\n",
              "    </tr>\n",
              "  </tbody>\n",
              "</table>\n",
              "</div>\n",
              "      <button class=\"colab-df-convert\" onclick=\"convertToInteractive('df-a319fa25-7f81-4c4d-ac4d-6b47ba14aa70')\"\n",
              "              title=\"Convert this dataframe to an interactive table.\"\n",
              "              style=\"display:none;\">\n",
              "        \n",
              "  <svg xmlns=\"http://www.w3.org/2000/svg\" height=\"24px\"viewBox=\"0 0 24 24\"\n",
              "       width=\"24px\">\n",
              "    <path d=\"M0 0h24v24H0V0z\" fill=\"none\"/>\n",
              "    <path d=\"M18.56 5.44l.94 2.06.94-2.06 2.06-.94-2.06-.94-.94-2.06-.94 2.06-2.06.94zm-11 1L8.5 8.5l.94-2.06 2.06-.94-2.06-.94L8.5 2.5l-.94 2.06-2.06.94zm10 10l.94 2.06.94-2.06 2.06-.94-2.06-.94-.94-2.06-.94 2.06-2.06.94z\"/><path d=\"M17.41 7.96l-1.37-1.37c-.4-.4-.92-.59-1.43-.59-.52 0-1.04.2-1.43.59L10.3 9.45l-7.72 7.72c-.78.78-.78 2.05 0 2.83L4 21.41c.39.39.9.59 1.41.59.51 0 1.02-.2 1.41-.59l7.78-7.78 2.81-2.81c.8-.78.8-2.07 0-2.86zM5.41 20L4 18.59l7.72-7.72 1.47 1.35L5.41 20z\"/>\n",
              "  </svg>\n",
              "      </button>\n",
              "      \n",
              "  <style>\n",
              "    .colab-df-container {\n",
              "      display:flex;\n",
              "      flex-wrap:wrap;\n",
              "      gap: 12px;\n",
              "    }\n",
              "\n",
              "    .colab-df-convert {\n",
              "      background-color: #E8F0FE;\n",
              "      border: none;\n",
              "      border-radius: 50%;\n",
              "      cursor: pointer;\n",
              "      display: none;\n",
              "      fill: #1967D2;\n",
              "      height: 32px;\n",
              "      padding: 0 0 0 0;\n",
              "      width: 32px;\n",
              "    }\n",
              "\n",
              "    .colab-df-convert:hover {\n",
              "      background-color: #E2EBFA;\n",
              "      box-shadow: 0px 1px 2px rgba(60, 64, 67, 0.3), 0px 1px 3px 1px rgba(60, 64, 67, 0.15);\n",
              "      fill: #174EA6;\n",
              "    }\n",
              "\n",
              "    [theme=dark] .colab-df-convert {\n",
              "      background-color: #3B4455;\n",
              "      fill: #D2E3FC;\n",
              "    }\n",
              "\n",
              "    [theme=dark] .colab-df-convert:hover {\n",
              "      background-color: #434B5C;\n",
              "      box-shadow: 0px 1px 3px 1px rgba(0, 0, 0, 0.15);\n",
              "      filter: drop-shadow(0px 1px 2px rgba(0, 0, 0, 0.3));\n",
              "      fill: #FFFFFF;\n",
              "    }\n",
              "  </style>\n",
              "\n",
              "      <script>\n",
              "        const buttonEl =\n",
              "          document.querySelector('#df-a319fa25-7f81-4c4d-ac4d-6b47ba14aa70 button.colab-df-convert');\n",
              "        buttonEl.style.display =\n",
              "          google.colab.kernel.accessAllowed ? 'block' : 'none';\n",
              "\n",
              "        async function convertToInteractive(key) {\n",
              "          const element = document.querySelector('#df-a319fa25-7f81-4c4d-ac4d-6b47ba14aa70');\n",
              "          const dataTable =\n",
              "            await google.colab.kernel.invokeFunction('convertToInteractive',\n",
              "                                                     [key], {});\n",
              "          if (!dataTable) return;\n",
              "\n",
              "          const docLinkHtml = 'Like what you see? Visit the ' +\n",
              "            '<a target=\"_blank\" href=https://colab.research.google.com/notebooks/data_table.ipynb>data table notebook</a>'\n",
              "            + ' to learn more about interactive tables.';\n",
              "          element.innerHTML = '';\n",
              "          dataTable['output_type'] = 'display_data';\n",
              "          await google.colab.output.renderOutput(dataTable, element);\n",
              "          const docLink = document.createElement('div');\n",
              "          docLink.innerHTML = docLinkHtml;\n",
              "          element.appendChild(docLink);\n",
              "        }\n",
              "      </script>\n",
              "    </div>\n",
              "  </div>\n",
              "  "
            ]
          },
          "metadata": {},
          "execution_count": 21
        }
      ]
    },
    {
      "cell_type": "markdown",
      "source": [
        "### Series를 DataFrame 구조로 만들기\n",
        "* **`시리즈객체.to_frame()`**"
      ],
      "metadata": {
        "id": "TaTeHEA6Gf5S"
      }
    },
    {
      "cell_type": "code",
      "source": [
        "# 이전에 만들어두었던 a 시리즈 객체는 계속 사용해야 하므로, 별도의 사본 a2를 추가, 지정하겠습니다.\n",
        "a2 = a\n",
        "a2 = a2.to_frame()\n",
        "a2"
      ],
      "metadata": {
        "id": "t4jQKk3dGo-z",
        "colab": {
          "base_uri": "https://localhost:8080/",
          "height": 206
        },
        "outputId": "350d2eb2-3b9f-4d6e-ac89-5c777bd4505c"
      },
      "execution_count": 22,
      "outputs": [
        {
          "output_type": "execute_result",
          "data": {
            "text/plain": [
              "           혈액형\n",
              "혈액형별 인원 수     \n",
              "A          100\n",
              "B           50\n",
              "O           30\n",
              "AB          10"
            ],
            "text/html": [
              "\n",
              "  <div id=\"df-496fb277-bd04-466f-b4cb-51864f54c12b\">\n",
              "    <div class=\"colab-df-container\">\n",
              "      <div>\n",
              "<style scoped>\n",
              "    .dataframe tbody tr th:only-of-type {\n",
              "        vertical-align: middle;\n",
              "    }\n",
              "\n",
              "    .dataframe tbody tr th {\n",
              "        vertical-align: top;\n",
              "    }\n",
              "\n",
              "    .dataframe thead th {\n",
              "        text-align: right;\n",
              "    }\n",
              "</style>\n",
              "<table border=\"1\" class=\"dataframe\">\n",
              "  <thead>\n",
              "    <tr style=\"text-align: right;\">\n",
              "      <th></th>\n",
              "      <th>혈액형</th>\n",
              "    </tr>\n",
              "    <tr>\n",
              "      <th>혈액형별 인원 수</th>\n",
              "      <th></th>\n",
              "    </tr>\n",
              "  </thead>\n",
              "  <tbody>\n",
              "    <tr>\n",
              "      <th>A</th>\n",
              "      <td>100</td>\n",
              "    </tr>\n",
              "    <tr>\n",
              "      <th>B</th>\n",
              "      <td>50</td>\n",
              "    </tr>\n",
              "    <tr>\n",
              "      <th>O</th>\n",
              "      <td>30</td>\n",
              "    </tr>\n",
              "    <tr>\n",
              "      <th>AB</th>\n",
              "      <td>10</td>\n",
              "    </tr>\n",
              "  </tbody>\n",
              "</table>\n",
              "</div>\n",
              "      <button class=\"colab-df-convert\" onclick=\"convertToInteractive('df-496fb277-bd04-466f-b4cb-51864f54c12b')\"\n",
              "              title=\"Convert this dataframe to an interactive table.\"\n",
              "              style=\"display:none;\">\n",
              "        \n",
              "  <svg xmlns=\"http://www.w3.org/2000/svg\" height=\"24px\"viewBox=\"0 0 24 24\"\n",
              "       width=\"24px\">\n",
              "    <path d=\"M0 0h24v24H0V0z\" fill=\"none\"/>\n",
              "    <path d=\"M18.56 5.44l.94 2.06.94-2.06 2.06-.94-2.06-.94-.94-2.06-.94 2.06-2.06.94zm-11 1L8.5 8.5l.94-2.06 2.06-.94-2.06-.94L8.5 2.5l-.94 2.06-2.06.94zm10 10l.94 2.06.94-2.06 2.06-.94-2.06-.94-.94-2.06-.94 2.06-2.06.94z\"/><path d=\"M17.41 7.96l-1.37-1.37c-.4-.4-.92-.59-1.43-.59-.52 0-1.04.2-1.43.59L10.3 9.45l-7.72 7.72c-.78.78-.78 2.05 0 2.83L4 21.41c.39.39.9.59 1.41.59.51 0 1.02-.2 1.41-.59l7.78-7.78 2.81-2.81c.8-.78.8-2.07 0-2.86zM5.41 20L4 18.59l7.72-7.72 1.47 1.35L5.41 20z\"/>\n",
              "  </svg>\n",
              "      </button>\n",
              "      \n",
              "  <style>\n",
              "    .colab-df-container {\n",
              "      display:flex;\n",
              "      flex-wrap:wrap;\n",
              "      gap: 12px;\n",
              "    }\n",
              "\n",
              "    .colab-df-convert {\n",
              "      background-color: #E8F0FE;\n",
              "      border: none;\n",
              "      border-radius: 50%;\n",
              "      cursor: pointer;\n",
              "      display: none;\n",
              "      fill: #1967D2;\n",
              "      height: 32px;\n",
              "      padding: 0 0 0 0;\n",
              "      width: 32px;\n",
              "    }\n",
              "\n",
              "    .colab-df-convert:hover {\n",
              "      background-color: #E2EBFA;\n",
              "      box-shadow: 0px 1px 2px rgba(60, 64, 67, 0.3), 0px 1px 3px 1px rgba(60, 64, 67, 0.15);\n",
              "      fill: #174EA6;\n",
              "    }\n",
              "\n",
              "    [theme=dark] .colab-df-convert {\n",
              "      background-color: #3B4455;\n",
              "      fill: #D2E3FC;\n",
              "    }\n",
              "\n",
              "    [theme=dark] .colab-df-convert:hover {\n",
              "      background-color: #434B5C;\n",
              "      box-shadow: 0px 1px 3px 1px rgba(0, 0, 0, 0.15);\n",
              "      filter: drop-shadow(0px 1px 2px rgba(0, 0, 0, 0.3));\n",
              "      fill: #FFFFFF;\n",
              "    }\n",
              "  </style>\n",
              "\n",
              "      <script>\n",
              "        const buttonEl =\n",
              "          document.querySelector('#df-496fb277-bd04-466f-b4cb-51864f54c12b button.colab-df-convert');\n",
              "        buttonEl.style.display =\n",
              "          google.colab.kernel.accessAllowed ? 'block' : 'none';\n",
              "\n",
              "        async function convertToInteractive(key) {\n",
              "          const element = document.querySelector('#df-496fb277-bd04-466f-b4cb-51864f54c12b');\n",
              "          const dataTable =\n",
              "            await google.colab.kernel.invokeFunction('convertToInteractive',\n",
              "                                                     [key], {});\n",
              "          if (!dataTable) return;\n",
              "\n",
              "          const docLinkHtml = 'Like what you see? Visit the ' +\n",
              "            '<a target=\"_blank\" href=https://colab.research.google.com/notebooks/data_table.ipynb>data table notebook</a>'\n",
              "            + ' to learn more about interactive tables.';\n",
              "          element.innerHTML = '';\n",
              "          dataTable['output_type'] = 'display_data';\n",
              "          await google.colab.output.renderOutput(dataTable, element);\n",
              "          const docLink = document.createElement('div');\n",
              "          docLink.innerHTML = docLinkHtml;\n",
              "          element.appendChild(docLink);\n",
              "        }\n",
              "      </script>\n",
              "    </div>\n",
              "  </div>\n",
              "  "
            ]
          },
          "metadata": {},
          "execution_count": 22
        }
      ]
    },
    {
      "cell_type": "markdown",
      "source": [
        "### Series 변경\n",
        "* 데이터 추가/수정\n",
        "  * 시리즈객체[인덱스] = 데이터\n",
        "* 데이터 삭제\n",
        "  * del 시리즈객체[인덱스]"
      ],
      "metadata": {
        "id": "QwoR_Yh1Me6i"
      }
    },
    {
      "cell_type": "code",
      "source": [
        "# C형 3명\n",
        "a['C'] = 3\n",
        "a"
      ],
      "metadata": {
        "id": "TCVyPuc2Bq3D",
        "colab": {
          "base_uri": "https://localhost:8080/"
        },
        "outputId": "82bdd302-0063-478e-fde8-393278c4e262"
      },
      "execution_count": 23,
      "outputs": [
        {
          "output_type": "execute_result",
          "data": {
            "text/plain": [
              "혈액형별 인원 수\n",
              "A     100\n",
              "B      50\n",
              "O      30\n",
              "AB     10\n",
              "C       3\n",
              "Name: 혈액형, dtype: int64"
            ]
          },
          "metadata": {},
          "execution_count": 23
        }
      ]
    },
    {
      "cell_type": "code",
      "source": [
        "# C형 삭제\n",
        "del a['C']\n",
        "a"
      ],
      "metadata": {
        "id": "9UdOpCygB_mU",
        "colab": {
          "base_uri": "https://localhost:8080/"
        },
        "outputId": "e949f45b-286e-492e-bc57-db514954cd92"
      },
      "execution_count": 24,
      "outputs": [
        {
          "output_type": "execute_result",
          "data": {
            "text/plain": [
              "혈액형별 인원 수\n",
              "A     100\n",
              "B      50\n",
              "O      30\n",
              "AB     10\n",
              "Name: 혈액형, dtype: int64"
            ]
          },
          "metadata": {},
          "execution_count": 24
        }
      ]
    },
    {
      "cell_type": "markdown",
      "source": [
        "## DataFrame\n",
        "* DataFrame 객체 생성\n",
        "  * **`pd.DataFrame(딕셔너리)`**\n",
        "  * **`pd.DataFrame(2차원리스트)`**\n",
        "    * 2차원 리스트로 DataFrame에 대입하는 경우, 별도의 Column 이름을 지정해야 합니다."
      ],
      "metadata": {
        "id": "uBKar3fdGp83"
      }
    },
    {
      "cell_type": "markdown",
      "source": [
        "### DataFrame 객체 생성"
      ],
      "metadata": {
        "id": "MOVp1iIrG7eY"
      }
    },
    {
      "cell_type": "code",
      "source": [
        "d = {'이름':['철수','영희','길동','길순','무개'],\n",
        "     '나이':[15,16,20,19,23],\n",
        "     '키':[160.5,158.3,175.0,178.4,185.0]}\n",
        "\n",
        "# Pandas DataFrame 객체 df1 생성\n",
        "df1 = pd.DataFrame(d)\n",
        "df1"
      ],
      "metadata": {
        "id": "LskIsh8uG6Xk",
        "colab": {
          "base_uri": "https://localhost:8080/",
          "height": 206
        },
        "outputId": "1c16ca2d-5b83-4a69-b438-b479379e7317"
      },
      "execution_count": 25,
      "outputs": [
        {
          "output_type": "execute_result",
          "data": {
            "text/plain": [
              "   이름  나이      키\n",
              "0  철수  15  160.5\n",
              "1  영희  16  158.3\n",
              "2  길동  20  175.0\n",
              "3  길순  19  178.4\n",
              "4  무개  23  185.0"
            ],
            "text/html": [
              "\n",
              "  <div id=\"df-31ea748b-018e-4b09-9cc0-e2316957e7cb\">\n",
              "    <div class=\"colab-df-container\">\n",
              "      <div>\n",
              "<style scoped>\n",
              "    .dataframe tbody tr th:only-of-type {\n",
              "        vertical-align: middle;\n",
              "    }\n",
              "\n",
              "    .dataframe tbody tr th {\n",
              "        vertical-align: top;\n",
              "    }\n",
              "\n",
              "    .dataframe thead th {\n",
              "        text-align: right;\n",
              "    }\n",
              "</style>\n",
              "<table border=\"1\" class=\"dataframe\">\n",
              "  <thead>\n",
              "    <tr style=\"text-align: right;\">\n",
              "      <th></th>\n",
              "      <th>이름</th>\n",
              "      <th>나이</th>\n",
              "      <th>키</th>\n",
              "    </tr>\n",
              "  </thead>\n",
              "  <tbody>\n",
              "    <tr>\n",
              "      <th>0</th>\n",
              "      <td>철수</td>\n",
              "      <td>15</td>\n",
              "      <td>160.5</td>\n",
              "    </tr>\n",
              "    <tr>\n",
              "      <th>1</th>\n",
              "      <td>영희</td>\n",
              "      <td>16</td>\n",
              "      <td>158.3</td>\n",
              "    </tr>\n",
              "    <tr>\n",
              "      <th>2</th>\n",
              "      <td>길동</td>\n",
              "      <td>20</td>\n",
              "      <td>175.0</td>\n",
              "    </tr>\n",
              "    <tr>\n",
              "      <th>3</th>\n",
              "      <td>길순</td>\n",
              "      <td>19</td>\n",
              "      <td>178.4</td>\n",
              "    </tr>\n",
              "    <tr>\n",
              "      <th>4</th>\n",
              "      <td>무개</td>\n",
              "      <td>23</td>\n",
              "      <td>185.0</td>\n",
              "    </tr>\n",
              "  </tbody>\n",
              "</table>\n",
              "</div>\n",
              "      <button class=\"colab-df-convert\" onclick=\"convertToInteractive('df-31ea748b-018e-4b09-9cc0-e2316957e7cb')\"\n",
              "              title=\"Convert this dataframe to an interactive table.\"\n",
              "              style=\"display:none;\">\n",
              "        \n",
              "  <svg xmlns=\"http://www.w3.org/2000/svg\" height=\"24px\"viewBox=\"0 0 24 24\"\n",
              "       width=\"24px\">\n",
              "    <path d=\"M0 0h24v24H0V0z\" fill=\"none\"/>\n",
              "    <path d=\"M18.56 5.44l.94 2.06.94-2.06 2.06-.94-2.06-.94-.94-2.06-.94 2.06-2.06.94zm-11 1L8.5 8.5l.94-2.06 2.06-.94-2.06-.94L8.5 2.5l-.94 2.06-2.06.94zm10 10l.94 2.06.94-2.06 2.06-.94-2.06-.94-.94-2.06-.94 2.06-2.06.94z\"/><path d=\"M17.41 7.96l-1.37-1.37c-.4-.4-.92-.59-1.43-.59-.52 0-1.04.2-1.43.59L10.3 9.45l-7.72 7.72c-.78.78-.78 2.05 0 2.83L4 21.41c.39.39.9.59 1.41.59.51 0 1.02-.2 1.41-.59l7.78-7.78 2.81-2.81c.8-.78.8-2.07 0-2.86zM5.41 20L4 18.59l7.72-7.72 1.47 1.35L5.41 20z\"/>\n",
              "  </svg>\n",
              "      </button>\n",
              "      \n",
              "  <style>\n",
              "    .colab-df-container {\n",
              "      display:flex;\n",
              "      flex-wrap:wrap;\n",
              "      gap: 12px;\n",
              "    }\n",
              "\n",
              "    .colab-df-convert {\n",
              "      background-color: #E8F0FE;\n",
              "      border: none;\n",
              "      border-radius: 50%;\n",
              "      cursor: pointer;\n",
              "      display: none;\n",
              "      fill: #1967D2;\n",
              "      height: 32px;\n",
              "      padding: 0 0 0 0;\n",
              "      width: 32px;\n",
              "    }\n",
              "\n",
              "    .colab-df-convert:hover {\n",
              "      background-color: #E2EBFA;\n",
              "      box-shadow: 0px 1px 2px rgba(60, 64, 67, 0.3), 0px 1px 3px 1px rgba(60, 64, 67, 0.15);\n",
              "      fill: #174EA6;\n",
              "    }\n",
              "\n",
              "    [theme=dark] .colab-df-convert {\n",
              "      background-color: #3B4455;\n",
              "      fill: #D2E3FC;\n",
              "    }\n",
              "\n",
              "    [theme=dark] .colab-df-convert:hover {\n",
              "      background-color: #434B5C;\n",
              "      box-shadow: 0px 1px 3px 1px rgba(0, 0, 0, 0.15);\n",
              "      filter: drop-shadow(0px 1px 2px rgba(0, 0, 0, 0.3));\n",
              "      fill: #FFFFFF;\n",
              "    }\n",
              "  </style>\n",
              "\n",
              "      <script>\n",
              "        const buttonEl =\n",
              "          document.querySelector('#df-31ea748b-018e-4b09-9cc0-e2316957e7cb button.colab-df-convert');\n",
              "        buttonEl.style.display =\n",
              "          google.colab.kernel.accessAllowed ? 'block' : 'none';\n",
              "\n",
              "        async function convertToInteractive(key) {\n",
              "          const element = document.querySelector('#df-31ea748b-018e-4b09-9cc0-e2316957e7cb');\n",
              "          const dataTable =\n",
              "            await google.colab.kernel.invokeFunction('convertToInteractive',\n",
              "                                                     [key], {});\n",
              "          if (!dataTable) return;\n",
              "\n",
              "          const docLinkHtml = 'Like what you see? Visit the ' +\n",
              "            '<a target=\"_blank\" href=https://colab.research.google.com/notebooks/data_table.ipynb>data table notebook</a>'\n",
              "            + ' to learn more about interactive tables.';\n",
              "          element.innerHTML = '';\n",
              "          dataTable['output_type'] = 'display_data';\n",
              "          await google.colab.output.renderOutput(dataTable, element);\n",
              "          const docLink = document.createElement('div');\n",
              "          docLink.innerHTML = docLinkHtml;\n",
              "          element.appendChild(docLink);\n",
              "        }\n",
              "      </script>\n",
              "    </div>\n",
              "  </div>\n",
              "  "
            ]
          },
          "metadata": {},
          "execution_count": 25
        }
      ]
    },
    {
      "cell_type": "code",
      "source": [
        "s = [['철수',15,160.5],\n",
        "     ['영희',16,158.3],\n",
        "     ['길동',20,175.0],\n",
        "     ['길순',19,178.4],\n",
        "     ['무개',23,185.0]]\n",
        "\n",
        "# Pandas DataFrame 객체 df2 생성\n",
        "df1 = pd.DataFrame(s)\n",
        "df1"
      ],
      "metadata": {
        "id": "G9ZdVZW_vMid",
        "colab": {
          "base_uri": "https://localhost:8080/",
          "height": 206
        },
        "outputId": "7511c338-988f-4455-9f9e-46c6d75044d4"
      },
      "execution_count": 26,
      "outputs": [
        {
          "output_type": "execute_result",
          "data": {
            "text/plain": [
              "    0   1      2\n",
              "0  철수  15  160.5\n",
              "1  영희  16  158.3\n",
              "2  길동  20  175.0\n",
              "3  길순  19  178.4\n",
              "4  무개  23  185.0"
            ],
            "text/html": [
              "\n",
              "  <div id=\"df-d0db7a19-52e2-43f6-9b59-effe1bfd8b10\">\n",
              "    <div class=\"colab-df-container\">\n",
              "      <div>\n",
              "<style scoped>\n",
              "    .dataframe tbody tr th:only-of-type {\n",
              "        vertical-align: middle;\n",
              "    }\n",
              "\n",
              "    .dataframe tbody tr th {\n",
              "        vertical-align: top;\n",
              "    }\n",
              "\n",
              "    .dataframe thead th {\n",
              "        text-align: right;\n",
              "    }\n",
              "</style>\n",
              "<table border=\"1\" class=\"dataframe\">\n",
              "  <thead>\n",
              "    <tr style=\"text-align: right;\">\n",
              "      <th></th>\n",
              "      <th>0</th>\n",
              "      <th>1</th>\n",
              "      <th>2</th>\n",
              "    </tr>\n",
              "  </thead>\n",
              "  <tbody>\n",
              "    <tr>\n",
              "      <th>0</th>\n",
              "      <td>철수</td>\n",
              "      <td>15</td>\n",
              "      <td>160.5</td>\n",
              "    </tr>\n",
              "    <tr>\n",
              "      <th>1</th>\n",
              "      <td>영희</td>\n",
              "      <td>16</td>\n",
              "      <td>158.3</td>\n",
              "    </tr>\n",
              "    <tr>\n",
              "      <th>2</th>\n",
              "      <td>길동</td>\n",
              "      <td>20</td>\n",
              "      <td>175.0</td>\n",
              "    </tr>\n",
              "    <tr>\n",
              "      <th>3</th>\n",
              "      <td>길순</td>\n",
              "      <td>19</td>\n",
              "      <td>178.4</td>\n",
              "    </tr>\n",
              "    <tr>\n",
              "      <th>4</th>\n",
              "      <td>무개</td>\n",
              "      <td>23</td>\n",
              "      <td>185.0</td>\n",
              "    </tr>\n",
              "  </tbody>\n",
              "</table>\n",
              "</div>\n",
              "      <button class=\"colab-df-convert\" onclick=\"convertToInteractive('df-d0db7a19-52e2-43f6-9b59-effe1bfd8b10')\"\n",
              "              title=\"Convert this dataframe to an interactive table.\"\n",
              "              style=\"display:none;\">\n",
              "        \n",
              "  <svg xmlns=\"http://www.w3.org/2000/svg\" height=\"24px\"viewBox=\"0 0 24 24\"\n",
              "       width=\"24px\">\n",
              "    <path d=\"M0 0h24v24H0V0z\" fill=\"none\"/>\n",
              "    <path d=\"M18.56 5.44l.94 2.06.94-2.06 2.06-.94-2.06-.94-.94-2.06-.94 2.06-2.06.94zm-11 1L8.5 8.5l.94-2.06 2.06-.94-2.06-.94L8.5 2.5l-.94 2.06-2.06.94zm10 10l.94 2.06.94-2.06 2.06-.94-2.06-.94-.94-2.06-.94 2.06-2.06.94z\"/><path d=\"M17.41 7.96l-1.37-1.37c-.4-.4-.92-.59-1.43-.59-.52 0-1.04.2-1.43.59L10.3 9.45l-7.72 7.72c-.78.78-.78 2.05 0 2.83L4 21.41c.39.39.9.59 1.41.59.51 0 1.02-.2 1.41-.59l7.78-7.78 2.81-2.81c.8-.78.8-2.07 0-2.86zM5.41 20L4 18.59l7.72-7.72 1.47 1.35L5.41 20z\"/>\n",
              "  </svg>\n",
              "      </button>\n",
              "      \n",
              "  <style>\n",
              "    .colab-df-container {\n",
              "      display:flex;\n",
              "      flex-wrap:wrap;\n",
              "      gap: 12px;\n",
              "    }\n",
              "\n",
              "    .colab-df-convert {\n",
              "      background-color: #E8F0FE;\n",
              "      border: none;\n",
              "      border-radius: 50%;\n",
              "      cursor: pointer;\n",
              "      display: none;\n",
              "      fill: #1967D2;\n",
              "      height: 32px;\n",
              "      padding: 0 0 0 0;\n",
              "      width: 32px;\n",
              "    }\n",
              "\n",
              "    .colab-df-convert:hover {\n",
              "      background-color: #E2EBFA;\n",
              "      box-shadow: 0px 1px 2px rgba(60, 64, 67, 0.3), 0px 1px 3px 1px rgba(60, 64, 67, 0.15);\n",
              "      fill: #174EA6;\n",
              "    }\n",
              "\n",
              "    [theme=dark] .colab-df-convert {\n",
              "      background-color: #3B4455;\n",
              "      fill: #D2E3FC;\n",
              "    }\n",
              "\n",
              "    [theme=dark] .colab-df-convert:hover {\n",
              "      background-color: #434B5C;\n",
              "      box-shadow: 0px 1px 3px 1px rgba(0, 0, 0, 0.15);\n",
              "      filter: drop-shadow(0px 1px 2px rgba(0, 0, 0, 0.3));\n",
              "      fill: #FFFFFF;\n",
              "    }\n",
              "  </style>\n",
              "\n",
              "      <script>\n",
              "        const buttonEl =\n",
              "          document.querySelector('#df-d0db7a19-52e2-43f6-9b59-effe1bfd8b10 button.colab-df-convert');\n",
              "        buttonEl.style.display =\n",
              "          google.colab.kernel.accessAllowed ? 'block' : 'none';\n",
              "\n",
              "        async function convertToInteractive(key) {\n",
              "          const element = document.querySelector('#df-d0db7a19-52e2-43f6-9b59-effe1bfd8b10');\n",
              "          const dataTable =\n",
              "            await google.colab.kernel.invokeFunction('convertToInteractive',\n",
              "                                                     [key], {});\n",
              "          if (!dataTable) return;\n",
              "\n",
              "          const docLinkHtml = 'Like what you see? Visit the ' +\n",
              "            '<a target=\"_blank\" href=https://colab.research.google.com/notebooks/data_table.ipynb>data table notebook</a>'\n",
              "            + ' to learn more about interactive tables.';\n",
              "          element.innerHTML = '';\n",
              "          dataTable['output_type'] = 'display_data';\n",
              "          await google.colab.output.renderOutput(dataTable, element);\n",
              "          const docLink = document.createElement('div');\n",
              "          docLink.innerHTML = docLinkHtml;\n",
              "          element.appendChild(docLink);\n",
              "        }\n",
              "      </script>\n",
              "    </div>\n",
              "  </div>\n",
              "  "
            ]
          },
          "metadata": {},
          "execution_count": 26
        }
      ]
    },
    {
      "cell_type": "markdown",
      "source": [
        "### index, columns 다시 지정하기\n",
        "* **`데이터프레임객체.index = 인덱스리스트`**\n",
        "* **`데이터프레임객체.columns = 컬럼리스트`**\n",
        "* **`데이터프레임객체.set_index(컬럼명, inplace=True)`**       \n",
        "  * 특정 컬럼을 인덱스로 지정한다.\n",
        "* **`데이터프레임객체.reset_index( inplace=True )`**      \n",
        "  * 인덱스를 컬럼으로 만든 후 인덱스는 0부터 시작하는 정수로 자동 지정된다.\n",
        "  * drop 옵션을 True로 지정하면 기존 인덱스에 설정된 데이터를 삭제하고, None으로 지정하면 기존 인덱스에 설정된 데이터를 인덱스가 아닌 컬럼으로 반환합니다.\n",
        "  * 원본에 반영하려면 inplace=True 옵션을 부여합니다."
      ],
      "metadata": {
        "id": "b_MMpEgqHNTz"
      }
    },
    {
      "cell_type": "code",
      "source": [
        "# 컬럼명 지정 (컬럼명: '이름', '나이', '키')\n",
        "df1.columns = ['이름', '나이', '키']\n",
        "df1"
      ],
      "metadata": {
        "id": "qjxS-LVsH_XO",
        "colab": {
          "base_uri": "https://localhost:8080/",
          "height": 206
        },
        "outputId": "7d932cd1-9dba-405d-d8e1-c7c9932a0b2c"
      },
      "execution_count": 27,
      "outputs": [
        {
          "output_type": "execute_result",
          "data": {
            "text/plain": [
              "   이름  나이      키\n",
              "0  철수  15  160.5\n",
              "1  영희  16  158.3\n",
              "2  길동  20  175.0\n",
              "3  길순  19  178.4\n",
              "4  무개  23  185.0"
            ],
            "text/html": [
              "\n",
              "  <div id=\"df-08b0d5db-3fbb-4f4f-a57d-2e81e30aa4a0\">\n",
              "    <div class=\"colab-df-container\">\n",
              "      <div>\n",
              "<style scoped>\n",
              "    .dataframe tbody tr th:only-of-type {\n",
              "        vertical-align: middle;\n",
              "    }\n",
              "\n",
              "    .dataframe tbody tr th {\n",
              "        vertical-align: top;\n",
              "    }\n",
              "\n",
              "    .dataframe thead th {\n",
              "        text-align: right;\n",
              "    }\n",
              "</style>\n",
              "<table border=\"1\" class=\"dataframe\">\n",
              "  <thead>\n",
              "    <tr style=\"text-align: right;\">\n",
              "      <th></th>\n",
              "      <th>이름</th>\n",
              "      <th>나이</th>\n",
              "      <th>키</th>\n",
              "    </tr>\n",
              "  </thead>\n",
              "  <tbody>\n",
              "    <tr>\n",
              "      <th>0</th>\n",
              "      <td>철수</td>\n",
              "      <td>15</td>\n",
              "      <td>160.5</td>\n",
              "    </tr>\n",
              "    <tr>\n",
              "      <th>1</th>\n",
              "      <td>영희</td>\n",
              "      <td>16</td>\n",
              "      <td>158.3</td>\n",
              "    </tr>\n",
              "    <tr>\n",
              "      <th>2</th>\n",
              "      <td>길동</td>\n",
              "      <td>20</td>\n",
              "      <td>175.0</td>\n",
              "    </tr>\n",
              "    <tr>\n",
              "      <th>3</th>\n",
              "      <td>길순</td>\n",
              "      <td>19</td>\n",
              "      <td>178.4</td>\n",
              "    </tr>\n",
              "    <tr>\n",
              "      <th>4</th>\n",
              "      <td>무개</td>\n",
              "      <td>23</td>\n",
              "      <td>185.0</td>\n",
              "    </tr>\n",
              "  </tbody>\n",
              "</table>\n",
              "</div>\n",
              "      <button class=\"colab-df-convert\" onclick=\"convertToInteractive('df-08b0d5db-3fbb-4f4f-a57d-2e81e30aa4a0')\"\n",
              "              title=\"Convert this dataframe to an interactive table.\"\n",
              "              style=\"display:none;\">\n",
              "        \n",
              "  <svg xmlns=\"http://www.w3.org/2000/svg\" height=\"24px\"viewBox=\"0 0 24 24\"\n",
              "       width=\"24px\">\n",
              "    <path d=\"M0 0h24v24H0V0z\" fill=\"none\"/>\n",
              "    <path d=\"M18.56 5.44l.94 2.06.94-2.06 2.06-.94-2.06-.94-.94-2.06-.94 2.06-2.06.94zm-11 1L8.5 8.5l.94-2.06 2.06-.94-2.06-.94L8.5 2.5l-.94 2.06-2.06.94zm10 10l.94 2.06.94-2.06 2.06-.94-2.06-.94-.94-2.06-.94 2.06-2.06.94z\"/><path d=\"M17.41 7.96l-1.37-1.37c-.4-.4-.92-.59-1.43-.59-.52 0-1.04.2-1.43.59L10.3 9.45l-7.72 7.72c-.78.78-.78 2.05 0 2.83L4 21.41c.39.39.9.59 1.41.59.51 0 1.02-.2 1.41-.59l7.78-7.78 2.81-2.81c.8-.78.8-2.07 0-2.86zM5.41 20L4 18.59l7.72-7.72 1.47 1.35L5.41 20z\"/>\n",
              "  </svg>\n",
              "      </button>\n",
              "      \n",
              "  <style>\n",
              "    .colab-df-container {\n",
              "      display:flex;\n",
              "      flex-wrap:wrap;\n",
              "      gap: 12px;\n",
              "    }\n",
              "\n",
              "    .colab-df-convert {\n",
              "      background-color: #E8F0FE;\n",
              "      border: none;\n",
              "      border-radius: 50%;\n",
              "      cursor: pointer;\n",
              "      display: none;\n",
              "      fill: #1967D2;\n",
              "      height: 32px;\n",
              "      padding: 0 0 0 0;\n",
              "      width: 32px;\n",
              "    }\n",
              "\n",
              "    .colab-df-convert:hover {\n",
              "      background-color: #E2EBFA;\n",
              "      box-shadow: 0px 1px 2px rgba(60, 64, 67, 0.3), 0px 1px 3px 1px rgba(60, 64, 67, 0.15);\n",
              "      fill: #174EA6;\n",
              "    }\n",
              "\n",
              "    [theme=dark] .colab-df-convert {\n",
              "      background-color: #3B4455;\n",
              "      fill: #D2E3FC;\n",
              "    }\n",
              "\n",
              "    [theme=dark] .colab-df-convert:hover {\n",
              "      background-color: #434B5C;\n",
              "      box-shadow: 0px 1px 3px 1px rgba(0, 0, 0, 0.15);\n",
              "      filter: drop-shadow(0px 1px 2px rgba(0, 0, 0, 0.3));\n",
              "      fill: #FFFFFF;\n",
              "    }\n",
              "  </style>\n",
              "\n",
              "      <script>\n",
              "        const buttonEl =\n",
              "          document.querySelector('#df-08b0d5db-3fbb-4f4f-a57d-2e81e30aa4a0 button.colab-df-convert');\n",
              "        buttonEl.style.display =\n",
              "          google.colab.kernel.accessAllowed ? 'block' : 'none';\n",
              "\n",
              "        async function convertToInteractive(key) {\n",
              "          const element = document.querySelector('#df-08b0d5db-3fbb-4f4f-a57d-2e81e30aa4a0');\n",
              "          const dataTable =\n",
              "            await google.colab.kernel.invokeFunction('convertToInteractive',\n",
              "                                                     [key], {});\n",
              "          if (!dataTable) return;\n",
              "\n",
              "          const docLinkHtml = 'Like what you see? Visit the ' +\n",
              "            '<a target=\"_blank\" href=https://colab.research.google.com/notebooks/data_table.ipynb>data table notebook</a>'\n",
              "            + ' to learn more about interactive tables.';\n",
              "          element.innerHTML = '';\n",
              "          dataTable['output_type'] = 'display_data';\n",
              "          await google.colab.output.renderOutput(dataTable, element);\n",
              "          const docLink = document.createElement('div');\n",
              "          docLink.innerHTML = docLinkHtml;\n",
              "          element.appendChild(docLink);\n",
              "        }\n",
              "      </script>\n",
              "    </div>\n",
              "  </div>\n",
              "  "
            ]
          },
          "metadata": {},
          "execution_count": 27
        }
      ]
    },
    {
      "cell_type": "code",
      "source": [
        "# 특정 컬럼을 인덱스로 지정 (인덱스로 지정할 컬럼명: '이름')\n",
        "df1.set_index('이름')\n",
        "df1"
      ],
      "metadata": {
        "id": "LcAm8C4O1eqV",
        "colab": {
          "base_uri": "https://localhost:8080/",
          "height": 206
        },
        "outputId": "9f0b9b7f-d10b-4ed1-d2a2-1dfe9dd2bf3d"
      },
      "execution_count": 29,
      "outputs": [
        {
          "output_type": "execute_result",
          "data": {
            "text/plain": [
              "   이름  나이      키\n",
              "0  철수  15  160.5\n",
              "1  영희  16  158.3\n",
              "2  길동  20  175.0\n",
              "3  길순  19  178.4\n",
              "4  무개  23  185.0"
            ],
            "text/html": [
              "\n",
              "  <div id=\"df-2af44a10-ae39-49f0-953c-4c003fa75522\">\n",
              "    <div class=\"colab-df-container\">\n",
              "      <div>\n",
              "<style scoped>\n",
              "    .dataframe tbody tr th:only-of-type {\n",
              "        vertical-align: middle;\n",
              "    }\n",
              "\n",
              "    .dataframe tbody tr th {\n",
              "        vertical-align: top;\n",
              "    }\n",
              "\n",
              "    .dataframe thead th {\n",
              "        text-align: right;\n",
              "    }\n",
              "</style>\n",
              "<table border=\"1\" class=\"dataframe\">\n",
              "  <thead>\n",
              "    <tr style=\"text-align: right;\">\n",
              "      <th></th>\n",
              "      <th>이름</th>\n",
              "      <th>나이</th>\n",
              "      <th>키</th>\n",
              "    </tr>\n",
              "  </thead>\n",
              "  <tbody>\n",
              "    <tr>\n",
              "      <th>0</th>\n",
              "      <td>철수</td>\n",
              "      <td>15</td>\n",
              "      <td>160.5</td>\n",
              "    </tr>\n",
              "    <tr>\n",
              "      <th>1</th>\n",
              "      <td>영희</td>\n",
              "      <td>16</td>\n",
              "      <td>158.3</td>\n",
              "    </tr>\n",
              "    <tr>\n",
              "      <th>2</th>\n",
              "      <td>길동</td>\n",
              "      <td>20</td>\n",
              "      <td>175.0</td>\n",
              "    </tr>\n",
              "    <tr>\n",
              "      <th>3</th>\n",
              "      <td>길순</td>\n",
              "      <td>19</td>\n",
              "      <td>178.4</td>\n",
              "    </tr>\n",
              "    <tr>\n",
              "      <th>4</th>\n",
              "      <td>무개</td>\n",
              "      <td>23</td>\n",
              "      <td>185.0</td>\n",
              "    </tr>\n",
              "  </tbody>\n",
              "</table>\n",
              "</div>\n",
              "      <button class=\"colab-df-convert\" onclick=\"convertToInteractive('df-2af44a10-ae39-49f0-953c-4c003fa75522')\"\n",
              "              title=\"Convert this dataframe to an interactive table.\"\n",
              "              style=\"display:none;\">\n",
              "        \n",
              "  <svg xmlns=\"http://www.w3.org/2000/svg\" height=\"24px\"viewBox=\"0 0 24 24\"\n",
              "       width=\"24px\">\n",
              "    <path d=\"M0 0h24v24H0V0z\" fill=\"none\"/>\n",
              "    <path d=\"M18.56 5.44l.94 2.06.94-2.06 2.06-.94-2.06-.94-.94-2.06-.94 2.06-2.06.94zm-11 1L8.5 8.5l.94-2.06 2.06-.94-2.06-.94L8.5 2.5l-.94 2.06-2.06.94zm10 10l.94 2.06.94-2.06 2.06-.94-2.06-.94-.94-2.06-.94 2.06-2.06.94z\"/><path d=\"M17.41 7.96l-1.37-1.37c-.4-.4-.92-.59-1.43-.59-.52 0-1.04.2-1.43.59L10.3 9.45l-7.72 7.72c-.78.78-.78 2.05 0 2.83L4 21.41c.39.39.9.59 1.41.59.51 0 1.02-.2 1.41-.59l7.78-7.78 2.81-2.81c.8-.78.8-2.07 0-2.86zM5.41 20L4 18.59l7.72-7.72 1.47 1.35L5.41 20z\"/>\n",
              "  </svg>\n",
              "      </button>\n",
              "      \n",
              "  <style>\n",
              "    .colab-df-container {\n",
              "      display:flex;\n",
              "      flex-wrap:wrap;\n",
              "      gap: 12px;\n",
              "    }\n",
              "\n",
              "    .colab-df-convert {\n",
              "      background-color: #E8F0FE;\n",
              "      border: none;\n",
              "      border-radius: 50%;\n",
              "      cursor: pointer;\n",
              "      display: none;\n",
              "      fill: #1967D2;\n",
              "      height: 32px;\n",
              "      padding: 0 0 0 0;\n",
              "      width: 32px;\n",
              "    }\n",
              "\n",
              "    .colab-df-convert:hover {\n",
              "      background-color: #E2EBFA;\n",
              "      box-shadow: 0px 1px 2px rgba(60, 64, 67, 0.3), 0px 1px 3px 1px rgba(60, 64, 67, 0.15);\n",
              "      fill: #174EA6;\n",
              "    }\n",
              "\n",
              "    [theme=dark] .colab-df-convert {\n",
              "      background-color: #3B4455;\n",
              "      fill: #D2E3FC;\n",
              "    }\n",
              "\n",
              "    [theme=dark] .colab-df-convert:hover {\n",
              "      background-color: #434B5C;\n",
              "      box-shadow: 0px 1px 3px 1px rgba(0, 0, 0, 0.15);\n",
              "      filter: drop-shadow(0px 1px 2px rgba(0, 0, 0, 0.3));\n",
              "      fill: #FFFFFF;\n",
              "    }\n",
              "  </style>\n",
              "\n",
              "      <script>\n",
              "        const buttonEl =\n",
              "          document.querySelector('#df-2af44a10-ae39-49f0-953c-4c003fa75522 button.colab-df-convert');\n",
              "        buttonEl.style.display =\n",
              "          google.colab.kernel.accessAllowed ? 'block' : 'none';\n",
              "\n",
              "        async function convertToInteractive(key) {\n",
              "          const element = document.querySelector('#df-2af44a10-ae39-49f0-953c-4c003fa75522');\n",
              "          const dataTable =\n",
              "            await google.colab.kernel.invokeFunction('convertToInteractive',\n",
              "                                                     [key], {});\n",
              "          if (!dataTable) return;\n",
              "\n",
              "          const docLinkHtml = 'Like what you see? Visit the ' +\n",
              "            '<a target=\"_blank\" href=https://colab.research.google.com/notebooks/data_table.ipynb>data table notebook</a>'\n",
              "            + ' to learn more about interactive tables.';\n",
              "          element.innerHTML = '';\n",
              "          dataTable['output_type'] = 'display_data';\n",
              "          await google.colab.output.renderOutput(dataTable, element);\n",
              "          const docLink = document.createElement('div');\n",
              "          docLink.innerHTML = docLinkHtml;\n",
              "          element.appendChild(docLink);\n",
              "        }\n",
              "      </script>\n",
              "    </div>\n",
              "  </div>\n",
              "  "
            ]
          },
          "metadata": {},
          "execution_count": 29
        }
      ]
    },
    {
      "cell_type": "code",
      "source": [
        "# 순번으로 인덱스 리셋 (인덱스 컬럼을 삭제하지 않고 복원하는 조건 부여)\n",
        "df1.reset_index(inplace = True)\n",
        "df1"
      ],
      "metadata": {
        "id": "1bE86bY2IDr3",
        "colab": {
          "base_uri": "https://localhost:8080/",
          "height": 206
        },
        "outputId": "0bebac83-377b-4c4f-c051-1b3c7be50dea"
      },
      "execution_count": 31,
      "outputs": [
        {
          "output_type": "execute_result",
          "data": {
            "text/plain": [
              "   index  이름  나이      키\n",
              "0      0  철수  15  160.5\n",
              "1      1  영희  16  158.3\n",
              "2      2  길동  20  175.0\n",
              "3      3  길순  19  178.4\n",
              "4      4  무개  23  185.0"
            ],
            "text/html": [
              "\n",
              "  <div id=\"df-aa859307-4390-4e52-ac40-e69f5f89afc6\">\n",
              "    <div class=\"colab-df-container\">\n",
              "      <div>\n",
              "<style scoped>\n",
              "    .dataframe tbody tr th:only-of-type {\n",
              "        vertical-align: middle;\n",
              "    }\n",
              "\n",
              "    .dataframe tbody tr th {\n",
              "        vertical-align: top;\n",
              "    }\n",
              "\n",
              "    .dataframe thead th {\n",
              "        text-align: right;\n",
              "    }\n",
              "</style>\n",
              "<table border=\"1\" class=\"dataframe\">\n",
              "  <thead>\n",
              "    <tr style=\"text-align: right;\">\n",
              "      <th></th>\n",
              "      <th>index</th>\n",
              "      <th>이름</th>\n",
              "      <th>나이</th>\n",
              "      <th>키</th>\n",
              "    </tr>\n",
              "  </thead>\n",
              "  <tbody>\n",
              "    <tr>\n",
              "      <th>0</th>\n",
              "      <td>0</td>\n",
              "      <td>철수</td>\n",
              "      <td>15</td>\n",
              "      <td>160.5</td>\n",
              "    </tr>\n",
              "    <tr>\n",
              "      <th>1</th>\n",
              "      <td>1</td>\n",
              "      <td>영희</td>\n",
              "      <td>16</td>\n",
              "      <td>158.3</td>\n",
              "    </tr>\n",
              "    <tr>\n",
              "      <th>2</th>\n",
              "      <td>2</td>\n",
              "      <td>길동</td>\n",
              "      <td>20</td>\n",
              "      <td>175.0</td>\n",
              "    </tr>\n",
              "    <tr>\n",
              "      <th>3</th>\n",
              "      <td>3</td>\n",
              "      <td>길순</td>\n",
              "      <td>19</td>\n",
              "      <td>178.4</td>\n",
              "    </tr>\n",
              "    <tr>\n",
              "      <th>4</th>\n",
              "      <td>4</td>\n",
              "      <td>무개</td>\n",
              "      <td>23</td>\n",
              "      <td>185.0</td>\n",
              "    </tr>\n",
              "  </tbody>\n",
              "</table>\n",
              "</div>\n",
              "      <button class=\"colab-df-convert\" onclick=\"convertToInteractive('df-aa859307-4390-4e52-ac40-e69f5f89afc6')\"\n",
              "              title=\"Convert this dataframe to an interactive table.\"\n",
              "              style=\"display:none;\">\n",
              "        \n",
              "  <svg xmlns=\"http://www.w3.org/2000/svg\" height=\"24px\"viewBox=\"0 0 24 24\"\n",
              "       width=\"24px\">\n",
              "    <path d=\"M0 0h24v24H0V0z\" fill=\"none\"/>\n",
              "    <path d=\"M18.56 5.44l.94 2.06.94-2.06 2.06-.94-2.06-.94-.94-2.06-.94 2.06-2.06.94zm-11 1L8.5 8.5l.94-2.06 2.06-.94-2.06-.94L8.5 2.5l-.94 2.06-2.06.94zm10 10l.94 2.06.94-2.06 2.06-.94-2.06-.94-.94-2.06-.94 2.06-2.06.94z\"/><path d=\"M17.41 7.96l-1.37-1.37c-.4-.4-.92-.59-1.43-.59-.52 0-1.04.2-1.43.59L10.3 9.45l-7.72 7.72c-.78.78-.78 2.05 0 2.83L4 21.41c.39.39.9.59 1.41.59.51 0 1.02-.2 1.41-.59l7.78-7.78 2.81-2.81c.8-.78.8-2.07 0-2.86zM5.41 20L4 18.59l7.72-7.72 1.47 1.35L5.41 20z\"/>\n",
              "  </svg>\n",
              "      </button>\n",
              "      \n",
              "  <style>\n",
              "    .colab-df-container {\n",
              "      display:flex;\n",
              "      flex-wrap:wrap;\n",
              "      gap: 12px;\n",
              "    }\n",
              "\n",
              "    .colab-df-convert {\n",
              "      background-color: #E8F0FE;\n",
              "      border: none;\n",
              "      border-radius: 50%;\n",
              "      cursor: pointer;\n",
              "      display: none;\n",
              "      fill: #1967D2;\n",
              "      height: 32px;\n",
              "      padding: 0 0 0 0;\n",
              "      width: 32px;\n",
              "    }\n",
              "\n",
              "    .colab-df-convert:hover {\n",
              "      background-color: #E2EBFA;\n",
              "      box-shadow: 0px 1px 2px rgba(60, 64, 67, 0.3), 0px 1px 3px 1px rgba(60, 64, 67, 0.15);\n",
              "      fill: #174EA6;\n",
              "    }\n",
              "\n",
              "    [theme=dark] .colab-df-convert {\n",
              "      background-color: #3B4455;\n",
              "      fill: #D2E3FC;\n",
              "    }\n",
              "\n",
              "    [theme=dark] .colab-df-convert:hover {\n",
              "      background-color: #434B5C;\n",
              "      box-shadow: 0px 1px 3px 1px rgba(0, 0, 0, 0.15);\n",
              "      filter: drop-shadow(0px 1px 2px rgba(0, 0, 0, 0.3));\n",
              "      fill: #FFFFFF;\n",
              "    }\n",
              "  </style>\n",
              "\n",
              "      <script>\n",
              "        const buttonEl =\n",
              "          document.querySelector('#df-aa859307-4390-4e52-ac40-e69f5f89afc6 button.colab-df-convert');\n",
              "        buttonEl.style.display =\n",
              "          google.colab.kernel.accessAllowed ? 'block' : 'none';\n",
              "\n",
              "        async function convertToInteractive(key) {\n",
              "          const element = document.querySelector('#df-aa859307-4390-4e52-ac40-e69f5f89afc6');\n",
              "          const dataTable =\n",
              "            await google.colab.kernel.invokeFunction('convertToInteractive',\n",
              "                                                     [key], {});\n",
              "          if (!dataTable) return;\n",
              "\n",
              "          const docLinkHtml = 'Like what you see? Visit the ' +\n",
              "            '<a target=\"_blank\" href=https://colab.research.google.com/notebooks/data_table.ipynb>data table notebook</a>'\n",
              "            + ' to learn more about interactive tables.';\n",
              "          element.innerHTML = '';\n",
              "          dataTable['output_type'] = 'display_data';\n",
              "          await google.colab.output.renderOutput(dataTable, element);\n",
              "          const docLink = document.createElement('div');\n",
              "          docLink.innerHTML = docLinkHtml;\n",
              "          element.appendChild(docLink);\n",
              "        }\n",
              "      </script>\n",
              "    </div>\n",
              "  </div>\n",
              "  "
            ]
          },
          "metadata": {},
          "execution_count": 31
        }
      ]
    },
    {
      "cell_type": "markdown",
      "source": [
        "### 인덱스, 컬럼명에 이름 붙이기\n",
        "* **`데이터프레임객체.index.name = 인덱스이름`**\n",
        "* **`데이터프레임객체.columns.name = 컬럼이름`**"
      ],
      "metadata": {
        "id": "Td7vbUhcIKeL"
      }
    },
    {
      "cell_type": "code",
      "source": [
        "# 인덱스 네이밍 '학번'\n",
        "df1.index.name='학번'\n",
        "df1"
      ],
      "metadata": {
        "id": "5kmUV5PiIRWr",
        "colab": {
          "base_uri": "https://localhost:8080/",
          "height": 237
        },
        "outputId": "2e97dc92-99a4-4b64-a347-efc9faaf6854"
      },
      "execution_count": 32,
      "outputs": [
        {
          "output_type": "execute_result",
          "data": {
            "text/plain": [
              "    index  이름  나이      키\n",
              "학번                      \n",
              "0       0  철수  15  160.5\n",
              "1       1  영희  16  158.3\n",
              "2       2  길동  20  175.0\n",
              "3       3  길순  19  178.4\n",
              "4       4  무개  23  185.0"
            ],
            "text/html": [
              "\n",
              "  <div id=\"df-11d3097a-2a5f-4c03-8c61-52e80b12b2e1\">\n",
              "    <div class=\"colab-df-container\">\n",
              "      <div>\n",
              "<style scoped>\n",
              "    .dataframe tbody tr th:only-of-type {\n",
              "        vertical-align: middle;\n",
              "    }\n",
              "\n",
              "    .dataframe tbody tr th {\n",
              "        vertical-align: top;\n",
              "    }\n",
              "\n",
              "    .dataframe thead th {\n",
              "        text-align: right;\n",
              "    }\n",
              "</style>\n",
              "<table border=\"1\" class=\"dataframe\">\n",
              "  <thead>\n",
              "    <tr style=\"text-align: right;\">\n",
              "      <th></th>\n",
              "      <th>index</th>\n",
              "      <th>이름</th>\n",
              "      <th>나이</th>\n",
              "      <th>키</th>\n",
              "    </tr>\n",
              "    <tr>\n",
              "      <th>학번</th>\n",
              "      <th></th>\n",
              "      <th></th>\n",
              "      <th></th>\n",
              "      <th></th>\n",
              "    </tr>\n",
              "  </thead>\n",
              "  <tbody>\n",
              "    <tr>\n",
              "      <th>0</th>\n",
              "      <td>0</td>\n",
              "      <td>철수</td>\n",
              "      <td>15</td>\n",
              "      <td>160.5</td>\n",
              "    </tr>\n",
              "    <tr>\n",
              "      <th>1</th>\n",
              "      <td>1</td>\n",
              "      <td>영희</td>\n",
              "      <td>16</td>\n",
              "      <td>158.3</td>\n",
              "    </tr>\n",
              "    <tr>\n",
              "      <th>2</th>\n",
              "      <td>2</td>\n",
              "      <td>길동</td>\n",
              "      <td>20</td>\n",
              "      <td>175.0</td>\n",
              "    </tr>\n",
              "    <tr>\n",
              "      <th>3</th>\n",
              "      <td>3</td>\n",
              "      <td>길순</td>\n",
              "      <td>19</td>\n",
              "      <td>178.4</td>\n",
              "    </tr>\n",
              "    <tr>\n",
              "      <th>4</th>\n",
              "      <td>4</td>\n",
              "      <td>무개</td>\n",
              "      <td>23</td>\n",
              "      <td>185.0</td>\n",
              "    </tr>\n",
              "  </tbody>\n",
              "</table>\n",
              "</div>\n",
              "      <button class=\"colab-df-convert\" onclick=\"convertToInteractive('df-11d3097a-2a5f-4c03-8c61-52e80b12b2e1')\"\n",
              "              title=\"Convert this dataframe to an interactive table.\"\n",
              "              style=\"display:none;\">\n",
              "        \n",
              "  <svg xmlns=\"http://www.w3.org/2000/svg\" height=\"24px\"viewBox=\"0 0 24 24\"\n",
              "       width=\"24px\">\n",
              "    <path d=\"M0 0h24v24H0V0z\" fill=\"none\"/>\n",
              "    <path d=\"M18.56 5.44l.94 2.06.94-2.06 2.06-.94-2.06-.94-.94-2.06-.94 2.06-2.06.94zm-11 1L8.5 8.5l.94-2.06 2.06-.94-2.06-.94L8.5 2.5l-.94 2.06-2.06.94zm10 10l.94 2.06.94-2.06 2.06-.94-2.06-.94-.94-2.06-.94 2.06-2.06.94z\"/><path d=\"M17.41 7.96l-1.37-1.37c-.4-.4-.92-.59-1.43-.59-.52 0-1.04.2-1.43.59L10.3 9.45l-7.72 7.72c-.78.78-.78 2.05 0 2.83L4 21.41c.39.39.9.59 1.41.59.51 0 1.02-.2 1.41-.59l7.78-7.78 2.81-2.81c.8-.78.8-2.07 0-2.86zM5.41 20L4 18.59l7.72-7.72 1.47 1.35L5.41 20z\"/>\n",
              "  </svg>\n",
              "      </button>\n",
              "      \n",
              "  <style>\n",
              "    .colab-df-container {\n",
              "      display:flex;\n",
              "      flex-wrap:wrap;\n",
              "      gap: 12px;\n",
              "    }\n",
              "\n",
              "    .colab-df-convert {\n",
              "      background-color: #E8F0FE;\n",
              "      border: none;\n",
              "      border-radius: 50%;\n",
              "      cursor: pointer;\n",
              "      display: none;\n",
              "      fill: #1967D2;\n",
              "      height: 32px;\n",
              "      padding: 0 0 0 0;\n",
              "      width: 32px;\n",
              "    }\n",
              "\n",
              "    .colab-df-convert:hover {\n",
              "      background-color: #E2EBFA;\n",
              "      box-shadow: 0px 1px 2px rgba(60, 64, 67, 0.3), 0px 1px 3px 1px rgba(60, 64, 67, 0.15);\n",
              "      fill: #174EA6;\n",
              "    }\n",
              "\n",
              "    [theme=dark] .colab-df-convert {\n",
              "      background-color: #3B4455;\n",
              "      fill: #D2E3FC;\n",
              "    }\n",
              "\n",
              "    [theme=dark] .colab-df-convert:hover {\n",
              "      background-color: #434B5C;\n",
              "      box-shadow: 0px 1px 3px 1px rgba(0, 0, 0, 0.15);\n",
              "      filter: drop-shadow(0px 1px 2px rgba(0, 0, 0, 0.3));\n",
              "      fill: #FFFFFF;\n",
              "    }\n",
              "  </style>\n",
              "\n",
              "      <script>\n",
              "        const buttonEl =\n",
              "          document.querySelector('#df-11d3097a-2a5f-4c03-8c61-52e80b12b2e1 button.colab-df-convert');\n",
              "        buttonEl.style.display =\n",
              "          google.colab.kernel.accessAllowed ? 'block' : 'none';\n",
              "\n",
              "        async function convertToInteractive(key) {\n",
              "          const element = document.querySelector('#df-11d3097a-2a5f-4c03-8c61-52e80b12b2e1');\n",
              "          const dataTable =\n",
              "            await google.colab.kernel.invokeFunction('convertToInteractive',\n",
              "                                                     [key], {});\n",
              "          if (!dataTable) return;\n",
              "\n",
              "          const docLinkHtml = 'Like what you see? Visit the ' +\n",
              "            '<a target=\"_blank\" href=https://colab.research.google.com/notebooks/data_table.ipynb>data table notebook</a>'\n",
              "            + ' to learn more about interactive tables.';\n",
              "          element.innerHTML = '';\n",
              "          dataTable['output_type'] = 'display_data';\n",
              "          await google.colab.output.renderOutput(dataTable, element);\n",
              "          const docLink = document.createElement('div');\n",
              "          docLink.innerHTML = docLinkHtml;\n",
              "          element.appendChild(docLink);\n",
              "        }\n",
              "      </script>\n",
              "    </div>\n",
              "  </div>\n",
              "  "
            ]
          },
          "metadata": {},
          "execution_count": 32
        }
      ]
    },
    {
      "cell_type": "code",
      "source": [
        "# 컬럼네이밍 '학생부'\n",
        "df1.columns.name = '학생부'\n",
        "df1"
      ],
      "metadata": {
        "id": "8gmIsnYbITqX",
        "colab": {
          "base_uri": "https://localhost:8080/",
          "height": 237
        },
        "outputId": "d025e7b8-2d20-4abc-a4d6-ccef6b73a5f4"
      },
      "execution_count": 33,
      "outputs": [
        {
          "output_type": "execute_result",
          "data": {
            "text/plain": [
              "학생부  index  이름  나이      키\n",
              "학번                       \n",
              "0        0  철수  15  160.5\n",
              "1        1  영희  16  158.3\n",
              "2        2  길동  20  175.0\n",
              "3        3  길순  19  178.4\n",
              "4        4  무개  23  185.0"
            ],
            "text/html": [
              "\n",
              "  <div id=\"df-bb82357c-3a3d-491c-9133-3cd58616eaf8\">\n",
              "    <div class=\"colab-df-container\">\n",
              "      <div>\n",
              "<style scoped>\n",
              "    .dataframe tbody tr th:only-of-type {\n",
              "        vertical-align: middle;\n",
              "    }\n",
              "\n",
              "    .dataframe tbody tr th {\n",
              "        vertical-align: top;\n",
              "    }\n",
              "\n",
              "    .dataframe thead th {\n",
              "        text-align: right;\n",
              "    }\n",
              "</style>\n",
              "<table border=\"1\" class=\"dataframe\">\n",
              "  <thead>\n",
              "    <tr style=\"text-align: right;\">\n",
              "      <th>학생부</th>\n",
              "      <th>index</th>\n",
              "      <th>이름</th>\n",
              "      <th>나이</th>\n",
              "      <th>키</th>\n",
              "    </tr>\n",
              "    <tr>\n",
              "      <th>학번</th>\n",
              "      <th></th>\n",
              "      <th></th>\n",
              "      <th></th>\n",
              "      <th></th>\n",
              "    </tr>\n",
              "  </thead>\n",
              "  <tbody>\n",
              "    <tr>\n",
              "      <th>0</th>\n",
              "      <td>0</td>\n",
              "      <td>철수</td>\n",
              "      <td>15</td>\n",
              "      <td>160.5</td>\n",
              "    </tr>\n",
              "    <tr>\n",
              "      <th>1</th>\n",
              "      <td>1</td>\n",
              "      <td>영희</td>\n",
              "      <td>16</td>\n",
              "      <td>158.3</td>\n",
              "    </tr>\n",
              "    <tr>\n",
              "      <th>2</th>\n",
              "      <td>2</td>\n",
              "      <td>길동</td>\n",
              "      <td>20</td>\n",
              "      <td>175.0</td>\n",
              "    </tr>\n",
              "    <tr>\n",
              "      <th>3</th>\n",
              "      <td>3</td>\n",
              "      <td>길순</td>\n",
              "      <td>19</td>\n",
              "      <td>178.4</td>\n",
              "    </tr>\n",
              "    <tr>\n",
              "      <th>4</th>\n",
              "      <td>4</td>\n",
              "      <td>무개</td>\n",
              "      <td>23</td>\n",
              "      <td>185.0</td>\n",
              "    </tr>\n",
              "  </tbody>\n",
              "</table>\n",
              "</div>\n",
              "      <button class=\"colab-df-convert\" onclick=\"convertToInteractive('df-bb82357c-3a3d-491c-9133-3cd58616eaf8')\"\n",
              "              title=\"Convert this dataframe to an interactive table.\"\n",
              "              style=\"display:none;\">\n",
              "        \n",
              "  <svg xmlns=\"http://www.w3.org/2000/svg\" height=\"24px\"viewBox=\"0 0 24 24\"\n",
              "       width=\"24px\">\n",
              "    <path d=\"M0 0h24v24H0V0z\" fill=\"none\"/>\n",
              "    <path d=\"M18.56 5.44l.94 2.06.94-2.06 2.06-.94-2.06-.94-.94-2.06-.94 2.06-2.06.94zm-11 1L8.5 8.5l.94-2.06 2.06-.94-2.06-.94L8.5 2.5l-.94 2.06-2.06.94zm10 10l.94 2.06.94-2.06 2.06-.94-2.06-.94-.94-2.06-.94 2.06-2.06.94z\"/><path d=\"M17.41 7.96l-1.37-1.37c-.4-.4-.92-.59-1.43-.59-.52 0-1.04.2-1.43.59L10.3 9.45l-7.72 7.72c-.78.78-.78 2.05 0 2.83L4 21.41c.39.39.9.59 1.41.59.51 0 1.02-.2 1.41-.59l7.78-7.78 2.81-2.81c.8-.78.8-2.07 0-2.86zM5.41 20L4 18.59l7.72-7.72 1.47 1.35L5.41 20z\"/>\n",
              "  </svg>\n",
              "      </button>\n",
              "      \n",
              "  <style>\n",
              "    .colab-df-container {\n",
              "      display:flex;\n",
              "      flex-wrap:wrap;\n",
              "      gap: 12px;\n",
              "    }\n",
              "\n",
              "    .colab-df-convert {\n",
              "      background-color: #E8F0FE;\n",
              "      border: none;\n",
              "      border-radius: 50%;\n",
              "      cursor: pointer;\n",
              "      display: none;\n",
              "      fill: #1967D2;\n",
              "      height: 32px;\n",
              "      padding: 0 0 0 0;\n",
              "      width: 32px;\n",
              "    }\n",
              "\n",
              "    .colab-df-convert:hover {\n",
              "      background-color: #E2EBFA;\n",
              "      box-shadow: 0px 1px 2px rgba(60, 64, 67, 0.3), 0px 1px 3px 1px rgba(60, 64, 67, 0.15);\n",
              "      fill: #174EA6;\n",
              "    }\n",
              "\n",
              "    [theme=dark] .colab-df-convert {\n",
              "      background-color: #3B4455;\n",
              "      fill: #D2E3FC;\n",
              "    }\n",
              "\n",
              "    [theme=dark] .colab-df-convert:hover {\n",
              "      background-color: #434B5C;\n",
              "      box-shadow: 0px 1px 3px 1px rgba(0, 0, 0, 0.15);\n",
              "      filter: drop-shadow(0px 1px 2px rgba(0, 0, 0, 0.3));\n",
              "      fill: #FFFFFF;\n",
              "    }\n",
              "  </style>\n",
              "\n",
              "      <script>\n",
              "        const buttonEl =\n",
              "          document.querySelector('#df-bb82357c-3a3d-491c-9133-3cd58616eaf8 button.colab-df-convert');\n",
              "        buttonEl.style.display =\n",
              "          google.colab.kernel.accessAllowed ? 'block' : 'none';\n",
              "\n",
              "        async function convertToInteractive(key) {\n",
              "          const element = document.querySelector('#df-bb82357c-3a3d-491c-9133-3cd58616eaf8');\n",
              "          const dataTable =\n",
              "            await google.colab.kernel.invokeFunction('convertToInteractive',\n",
              "                                                     [key], {});\n",
              "          if (!dataTable) return;\n",
              "\n",
              "          const docLinkHtml = 'Like what you see? Visit the ' +\n",
              "            '<a target=\"_blank\" href=https://colab.research.google.com/notebooks/data_table.ipynb>data table notebook</a>'\n",
              "            + ' to learn more about interactive tables.';\n",
              "          element.innerHTML = '';\n",
              "          dataTable['output_type'] = 'display_data';\n",
              "          await google.colab.output.renderOutput(dataTable, element);\n",
              "          const docLink = document.createElement('div');\n",
              "          docLink.innerHTML = docLinkHtml;\n",
              "          element.appendChild(docLink);\n",
              "        }\n",
              "      </script>\n",
              "    </div>\n",
              "  </div>\n",
              "  "
            ]
          },
          "metadata": {},
          "execution_count": 33
        }
      ]
    },
    {
      "cell_type": "markdown",
      "source": [
        "### 데이프레임을 파일로 내보내기\n",
        "* 데이터프레임객체.to_csv(파일경로)\n",
        "* 일반적으로 한글이 포함되어 있는 경우, encoding='utf-8 sig'를 넣어 저장하면 한글 인코딩이 깨지지 않습니다.\n",
        "  * 사용 예시: 데이터프레임객체.to_csv(파일경로, encoding='utf-8 sig')"
      ],
      "metadata": {
        "id": "HoZEv92eIWLB"
      }
    },
    {
      "cell_type": "code",
      "source": [
        "df1.to_csv('/content/student.csv', encoding='utf-8 sig')"
      ],
      "metadata": {
        "id": "MVi-u4rZIfhR"
      },
      "execution_count": 34,
      "outputs": []
    },
    {
      "cell_type": "markdown",
      "source": [
        "# 데이터 수집/확인"
      ],
      "metadata": {
        "id": "BavFSvrCGjBT"
      }
    },
    {
      "cell_type": "markdown",
      "source": [
        "## csv 파일로 데이터프레임 생성\n",
        "* pd.read_csv(파일경로, encoding=**인코딩옵션**)\n",
        "    * encoding : 데이터에 한글이 포함되고, 파일 형식이 utf-8이 아닌 경우, encoding옵션 지정\n",
        "        * cp949 : 윈도우에서 쓰이는 한글 코드셋\n",
        "* 파일의 처음 행이 컬럼명으로 자동 지정된다.         \n",
        "     \n",
        "* 인덱스는 0부터 시작하는 정수로 자동 지정된다.\n",
        "* 특정 열을 인덱스로 만들기\n",
        "  * 데이터프레임객체.set_index(컬럼명)"
      ],
      "metadata": {
        "id": "8WaHiFWgMQxH"
      }
    },
    {
      "cell_type": "code",
      "source": [
        "# csv파일에서 데이터를 읽어와 데이터프레임객체 scores 만들기\n",
        "scores = pd.read_csv('/content/scores.csv', encoding='cp949')\n",
        "scores"
      ],
      "metadata": {
        "id": "b-jytOwSOymb",
        "colab": {
          "base_uri": "https://localhost:8080/",
          "height": 363
        },
        "outputId": "d3feb257-2bd3-4127-89e9-6be493f7b891"
      },
      "execution_count": 37,
      "outputs": [
        {
          "output_type": "execute_result",
          "data": {
            "text/plain": [
              "     학번        이름 성별     국어   영어     수학\n",
              "0  1101       amy  f  100.0   90   95.0\n",
              "1  1102      mary  f   90.0   80   75.0\n",
              "2  1103  isabella  f   95.0  100  100.0\n",
              "3  1104    evelyn  f  100.0  100  100.0\n",
              "4  1105       mia  f    NaN   35   60.0\n",
              "5  1106     allen  m   70.0   75   65.0\n",
              "6  1107    daniel  m   80.0   90   55.0\n",
              "7  1108    patric  m   50.0   60    NaN\n",
              "8  1109     kevin  m  100.0  100   90.0\n",
              "9  1110      john  m   90.0   95   70.0"
            ],
            "text/html": [
              "\n",
              "  <div id=\"df-5f39fbec-8f97-406e-9167-92ecb367df88\">\n",
              "    <div class=\"colab-df-container\">\n",
              "      <div>\n",
              "<style scoped>\n",
              "    .dataframe tbody tr th:only-of-type {\n",
              "        vertical-align: middle;\n",
              "    }\n",
              "\n",
              "    .dataframe tbody tr th {\n",
              "        vertical-align: top;\n",
              "    }\n",
              "\n",
              "    .dataframe thead th {\n",
              "        text-align: right;\n",
              "    }\n",
              "</style>\n",
              "<table border=\"1\" class=\"dataframe\">\n",
              "  <thead>\n",
              "    <tr style=\"text-align: right;\">\n",
              "      <th></th>\n",
              "      <th>학번</th>\n",
              "      <th>이름</th>\n",
              "      <th>성별</th>\n",
              "      <th>국어</th>\n",
              "      <th>영어</th>\n",
              "      <th>수학</th>\n",
              "    </tr>\n",
              "  </thead>\n",
              "  <tbody>\n",
              "    <tr>\n",
              "      <th>0</th>\n",
              "      <td>1101</td>\n",
              "      <td>amy</td>\n",
              "      <td>f</td>\n",
              "      <td>100.0</td>\n",
              "      <td>90</td>\n",
              "      <td>95.0</td>\n",
              "    </tr>\n",
              "    <tr>\n",
              "      <th>1</th>\n",
              "      <td>1102</td>\n",
              "      <td>mary</td>\n",
              "      <td>f</td>\n",
              "      <td>90.0</td>\n",
              "      <td>80</td>\n",
              "      <td>75.0</td>\n",
              "    </tr>\n",
              "    <tr>\n",
              "      <th>2</th>\n",
              "      <td>1103</td>\n",
              "      <td>isabella</td>\n",
              "      <td>f</td>\n",
              "      <td>95.0</td>\n",
              "      <td>100</td>\n",
              "      <td>100.0</td>\n",
              "    </tr>\n",
              "    <tr>\n",
              "      <th>3</th>\n",
              "      <td>1104</td>\n",
              "      <td>evelyn</td>\n",
              "      <td>f</td>\n",
              "      <td>100.0</td>\n",
              "      <td>100</td>\n",
              "      <td>100.0</td>\n",
              "    </tr>\n",
              "    <tr>\n",
              "      <th>4</th>\n",
              "      <td>1105</td>\n",
              "      <td>mia</td>\n",
              "      <td>f</td>\n",
              "      <td>NaN</td>\n",
              "      <td>35</td>\n",
              "      <td>60.0</td>\n",
              "    </tr>\n",
              "    <tr>\n",
              "      <th>5</th>\n",
              "      <td>1106</td>\n",
              "      <td>allen</td>\n",
              "      <td>m</td>\n",
              "      <td>70.0</td>\n",
              "      <td>75</td>\n",
              "      <td>65.0</td>\n",
              "    </tr>\n",
              "    <tr>\n",
              "      <th>6</th>\n",
              "      <td>1107</td>\n",
              "      <td>daniel</td>\n",
              "      <td>m</td>\n",
              "      <td>80.0</td>\n",
              "      <td>90</td>\n",
              "      <td>55.0</td>\n",
              "    </tr>\n",
              "    <tr>\n",
              "      <th>7</th>\n",
              "      <td>1108</td>\n",
              "      <td>patric</td>\n",
              "      <td>m</td>\n",
              "      <td>50.0</td>\n",
              "      <td>60</td>\n",
              "      <td>NaN</td>\n",
              "    </tr>\n",
              "    <tr>\n",
              "      <th>8</th>\n",
              "      <td>1109</td>\n",
              "      <td>kevin</td>\n",
              "      <td>m</td>\n",
              "      <td>100.0</td>\n",
              "      <td>100</td>\n",
              "      <td>90.0</td>\n",
              "    </tr>\n",
              "    <tr>\n",
              "      <th>9</th>\n",
              "      <td>1110</td>\n",
              "      <td>john</td>\n",
              "      <td>m</td>\n",
              "      <td>90.0</td>\n",
              "      <td>95</td>\n",
              "      <td>70.0</td>\n",
              "    </tr>\n",
              "  </tbody>\n",
              "</table>\n",
              "</div>\n",
              "      <button class=\"colab-df-convert\" onclick=\"convertToInteractive('df-5f39fbec-8f97-406e-9167-92ecb367df88')\"\n",
              "              title=\"Convert this dataframe to an interactive table.\"\n",
              "              style=\"display:none;\">\n",
              "        \n",
              "  <svg xmlns=\"http://www.w3.org/2000/svg\" height=\"24px\"viewBox=\"0 0 24 24\"\n",
              "       width=\"24px\">\n",
              "    <path d=\"M0 0h24v24H0V0z\" fill=\"none\"/>\n",
              "    <path d=\"M18.56 5.44l.94 2.06.94-2.06 2.06-.94-2.06-.94-.94-2.06-.94 2.06-2.06.94zm-11 1L8.5 8.5l.94-2.06 2.06-.94-2.06-.94L8.5 2.5l-.94 2.06-2.06.94zm10 10l.94 2.06.94-2.06 2.06-.94-2.06-.94-.94-2.06-.94 2.06-2.06.94z\"/><path d=\"M17.41 7.96l-1.37-1.37c-.4-.4-.92-.59-1.43-.59-.52 0-1.04.2-1.43.59L10.3 9.45l-7.72 7.72c-.78.78-.78 2.05 0 2.83L4 21.41c.39.39.9.59 1.41.59.51 0 1.02-.2 1.41-.59l7.78-7.78 2.81-2.81c.8-.78.8-2.07 0-2.86zM5.41 20L4 18.59l7.72-7.72 1.47 1.35L5.41 20z\"/>\n",
              "  </svg>\n",
              "      </button>\n",
              "      \n",
              "  <style>\n",
              "    .colab-df-container {\n",
              "      display:flex;\n",
              "      flex-wrap:wrap;\n",
              "      gap: 12px;\n",
              "    }\n",
              "\n",
              "    .colab-df-convert {\n",
              "      background-color: #E8F0FE;\n",
              "      border: none;\n",
              "      border-radius: 50%;\n",
              "      cursor: pointer;\n",
              "      display: none;\n",
              "      fill: #1967D2;\n",
              "      height: 32px;\n",
              "      padding: 0 0 0 0;\n",
              "      width: 32px;\n",
              "    }\n",
              "\n",
              "    .colab-df-convert:hover {\n",
              "      background-color: #E2EBFA;\n",
              "      box-shadow: 0px 1px 2px rgba(60, 64, 67, 0.3), 0px 1px 3px 1px rgba(60, 64, 67, 0.15);\n",
              "      fill: #174EA6;\n",
              "    }\n",
              "\n",
              "    [theme=dark] .colab-df-convert {\n",
              "      background-color: #3B4455;\n",
              "      fill: #D2E3FC;\n",
              "    }\n",
              "\n",
              "    [theme=dark] .colab-df-convert:hover {\n",
              "      background-color: #434B5C;\n",
              "      box-shadow: 0px 1px 3px 1px rgba(0, 0, 0, 0.15);\n",
              "      filter: drop-shadow(0px 1px 2px rgba(0, 0, 0, 0.3));\n",
              "      fill: #FFFFFF;\n",
              "    }\n",
              "  </style>\n",
              "\n",
              "      <script>\n",
              "        const buttonEl =\n",
              "          document.querySelector('#df-5f39fbec-8f97-406e-9167-92ecb367df88 button.colab-df-convert');\n",
              "        buttonEl.style.display =\n",
              "          google.colab.kernel.accessAllowed ? 'block' : 'none';\n",
              "\n",
              "        async function convertToInteractive(key) {\n",
              "          const element = document.querySelector('#df-5f39fbec-8f97-406e-9167-92ecb367df88');\n",
              "          const dataTable =\n",
              "            await google.colab.kernel.invokeFunction('convertToInteractive',\n",
              "                                                     [key], {});\n",
              "          if (!dataTable) return;\n",
              "\n",
              "          const docLinkHtml = 'Like what you see? Visit the ' +\n",
              "            '<a target=\"_blank\" href=https://colab.research.google.com/notebooks/data_table.ipynb>data table notebook</a>'\n",
              "            + ' to learn more about interactive tables.';\n",
              "          element.innerHTML = '';\n",
              "          dataTable['output_type'] = 'display_data';\n",
              "          await google.colab.output.renderOutput(dataTable, element);\n",
              "          const docLink = document.createElement('div');\n",
              "          docLink.innerHTML = docLinkHtml;\n",
              "          element.appendChild(docLink);\n",
              "        }\n",
              "      </script>\n",
              "    </div>\n",
              "  </div>\n",
              "  "
            ]
          },
          "metadata": {},
          "execution_count": 37
        }
      ]
    },
    {
      "cell_type": "code",
      "source": [
        "# '학번'컬럼을 인덱스로 지정 (inplace=True 옵션을 사용하면 복사본을 만들지 않아도 됩니다.)\n",
        "df1.set_index = '학번'\n",
        "df1"
      ],
      "metadata": {
        "id": "mW1Zd5oadtvz",
        "colab": {
          "base_uri": "https://localhost:8080/",
          "height": 237
        },
        "outputId": "d4703f69-3d01-4064-8728-2e158ecfe537"
      },
      "execution_count": 45,
      "outputs": [
        {
          "output_type": "execute_result",
          "data": {
            "text/plain": [
              "학생부  index  이름  나이      키\n",
              "학번                       \n",
              "0        0  철수  15  160.5\n",
              "1        1  영희  16  158.3\n",
              "2        2  길동  20  175.0\n",
              "3        3  길순  19  178.4\n",
              "4        4  무개  23  185.0"
            ],
            "text/html": [
              "\n",
              "  <div id=\"df-a7c8fc5c-1fe4-4f77-8ab7-c5f322516549\">\n",
              "    <div class=\"colab-df-container\">\n",
              "      <div>\n",
              "<style scoped>\n",
              "    .dataframe tbody tr th:only-of-type {\n",
              "        vertical-align: middle;\n",
              "    }\n",
              "\n",
              "    .dataframe tbody tr th {\n",
              "        vertical-align: top;\n",
              "    }\n",
              "\n",
              "    .dataframe thead th {\n",
              "        text-align: right;\n",
              "    }\n",
              "</style>\n",
              "<table border=\"1\" class=\"dataframe\">\n",
              "  <thead>\n",
              "    <tr style=\"text-align: right;\">\n",
              "      <th>학생부</th>\n",
              "      <th>index</th>\n",
              "      <th>이름</th>\n",
              "      <th>나이</th>\n",
              "      <th>키</th>\n",
              "    </tr>\n",
              "    <tr>\n",
              "      <th>학번</th>\n",
              "      <th></th>\n",
              "      <th></th>\n",
              "      <th></th>\n",
              "      <th></th>\n",
              "    </tr>\n",
              "  </thead>\n",
              "  <tbody>\n",
              "    <tr>\n",
              "      <th>0</th>\n",
              "      <td>0</td>\n",
              "      <td>철수</td>\n",
              "      <td>15</td>\n",
              "      <td>160.5</td>\n",
              "    </tr>\n",
              "    <tr>\n",
              "      <th>1</th>\n",
              "      <td>1</td>\n",
              "      <td>영희</td>\n",
              "      <td>16</td>\n",
              "      <td>158.3</td>\n",
              "    </tr>\n",
              "    <tr>\n",
              "      <th>2</th>\n",
              "      <td>2</td>\n",
              "      <td>길동</td>\n",
              "      <td>20</td>\n",
              "      <td>175.0</td>\n",
              "    </tr>\n",
              "    <tr>\n",
              "      <th>3</th>\n",
              "      <td>3</td>\n",
              "      <td>길순</td>\n",
              "      <td>19</td>\n",
              "      <td>178.4</td>\n",
              "    </tr>\n",
              "    <tr>\n",
              "      <th>4</th>\n",
              "      <td>4</td>\n",
              "      <td>무개</td>\n",
              "      <td>23</td>\n",
              "      <td>185.0</td>\n",
              "    </tr>\n",
              "  </tbody>\n",
              "</table>\n",
              "</div>\n",
              "      <button class=\"colab-df-convert\" onclick=\"convertToInteractive('df-a7c8fc5c-1fe4-4f77-8ab7-c5f322516549')\"\n",
              "              title=\"Convert this dataframe to an interactive table.\"\n",
              "              style=\"display:none;\">\n",
              "        \n",
              "  <svg xmlns=\"http://www.w3.org/2000/svg\" height=\"24px\"viewBox=\"0 0 24 24\"\n",
              "       width=\"24px\">\n",
              "    <path d=\"M0 0h24v24H0V0z\" fill=\"none\"/>\n",
              "    <path d=\"M18.56 5.44l.94 2.06.94-2.06 2.06-.94-2.06-.94-.94-2.06-.94 2.06-2.06.94zm-11 1L8.5 8.5l.94-2.06 2.06-.94-2.06-.94L8.5 2.5l-.94 2.06-2.06.94zm10 10l.94 2.06.94-2.06 2.06-.94-2.06-.94-.94-2.06-.94 2.06-2.06.94z\"/><path d=\"M17.41 7.96l-1.37-1.37c-.4-.4-.92-.59-1.43-.59-.52 0-1.04.2-1.43.59L10.3 9.45l-7.72 7.72c-.78.78-.78 2.05 0 2.83L4 21.41c.39.39.9.59 1.41.59.51 0 1.02-.2 1.41-.59l7.78-7.78 2.81-2.81c.8-.78.8-2.07 0-2.86zM5.41 20L4 18.59l7.72-7.72 1.47 1.35L5.41 20z\"/>\n",
              "  </svg>\n",
              "      </button>\n",
              "      \n",
              "  <style>\n",
              "    .colab-df-container {\n",
              "      display:flex;\n",
              "      flex-wrap:wrap;\n",
              "      gap: 12px;\n",
              "    }\n",
              "\n",
              "    .colab-df-convert {\n",
              "      background-color: #E8F0FE;\n",
              "      border: none;\n",
              "      border-radius: 50%;\n",
              "      cursor: pointer;\n",
              "      display: none;\n",
              "      fill: #1967D2;\n",
              "      height: 32px;\n",
              "      padding: 0 0 0 0;\n",
              "      width: 32px;\n",
              "    }\n",
              "\n",
              "    .colab-df-convert:hover {\n",
              "      background-color: #E2EBFA;\n",
              "      box-shadow: 0px 1px 2px rgba(60, 64, 67, 0.3), 0px 1px 3px 1px rgba(60, 64, 67, 0.15);\n",
              "      fill: #174EA6;\n",
              "    }\n",
              "\n",
              "    [theme=dark] .colab-df-convert {\n",
              "      background-color: #3B4455;\n",
              "      fill: #D2E3FC;\n",
              "    }\n",
              "\n",
              "    [theme=dark] .colab-df-convert:hover {\n",
              "      background-color: #434B5C;\n",
              "      box-shadow: 0px 1px 3px 1px rgba(0, 0, 0, 0.15);\n",
              "      filter: drop-shadow(0px 1px 2px rgba(0, 0, 0, 0.3));\n",
              "      fill: #FFFFFF;\n",
              "    }\n",
              "  </style>\n",
              "\n",
              "      <script>\n",
              "        const buttonEl =\n",
              "          document.querySelector('#df-a7c8fc5c-1fe4-4f77-8ab7-c5f322516549 button.colab-df-convert');\n",
              "        buttonEl.style.display =\n",
              "          google.colab.kernel.accessAllowed ? 'block' : 'none';\n",
              "\n",
              "        async function convertToInteractive(key) {\n",
              "          const element = document.querySelector('#df-a7c8fc5c-1fe4-4f77-8ab7-c5f322516549');\n",
              "          const dataTable =\n",
              "            await google.colab.kernel.invokeFunction('convertToInteractive',\n",
              "                                                     [key], {});\n",
              "          if (!dataTable) return;\n",
              "\n",
              "          const docLinkHtml = 'Like what you see? Visit the ' +\n",
              "            '<a target=\"_blank\" href=https://colab.research.google.com/notebooks/data_table.ipynb>data table notebook</a>'\n",
              "            + ' to learn more about interactive tables.';\n",
              "          element.innerHTML = '';\n",
              "          dataTable['output_type'] = 'display_data';\n",
              "          await google.colab.output.renderOutput(dataTable, element);\n",
              "          const docLink = document.createElement('div');\n",
              "          docLink.innerHTML = docLinkHtml;\n",
              "          element.appendChild(docLink);\n",
              "        }\n",
              "      </script>\n",
              "    </div>\n",
              "  </div>\n",
              "  "
            ]
          },
          "metadata": {},
          "execution_count": 45
        }
      ]
    },
    {
      "cell_type": "markdown",
      "source": [
        "## 데이터 미리보기\n",
        "* 상위 n개 행 보기(n의 초기값:5)\n",
        "  * **`데이터프레임객체.head(n)`** \n",
        "* 하위 n개 행 보기(n의 초기값:5)\n",
        "  * **`데이터프레임객체.tail(n)`** \n",
        "* 랜덤 n개 행 보기(n의 초기값:1)\n",
        "  * **`데이터프레임객체.sample(n)`** \n",
        "* 랜덤 n% 행 보기\n",
        "  * **`데이터프레임객체.sample(frac=비율)`** \n"
      ],
      "metadata": {
        "id": "mZYJf9r4LMB1"
      }
    },
    {
      "cell_type": "code",
      "source": [
        "# 상위 3개행 미리보기\n",
        "scores.head(3)"
      ],
      "metadata": {
        "id": "rfS9PCcOLWAM",
        "colab": {
          "base_uri": "https://localhost:8080/",
          "height": 143
        },
        "outputId": "70b62749-98c6-4384-db67-f4cb2f2a4295"
      },
      "execution_count": 46,
      "outputs": [
        {
          "output_type": "execute_result",
          "data": {
            "text/plain": [
              "     학번        이름 성별     국어   영어     수학\n",
              "0  1101       amy  f  100.0   90   95.0\n",
              "1  1102      mary  f   90.0   80   75.0\n",
              "2  1103  isabella  f   95.0  100  100.0"
            ],
            "text/html": [
              "\n",
              "  <div id=\"df-b6f337aa-925c-455a-b563-43c419610217\">\n",
              "    <div class=\"colab-df-container\">\n",
              "      <div>\n",
              "<style scoped>\n",
              "    .dataframe tbody tr th:only-of-type {\n",
              "        vertical-align: middle;\n",
              "    }\n",
              "\n",
              "    .dataframe tbody tr th {\n",
              "        vertical-align: top;\n",
              "    }\n",
              "\n",
              "    .dataframe thead th {\n",
              "        text-align: right;\n",
              "    }\n",
              "</style>\n",
              "<table border=\"1\" class=\"dataframe\">\n",
              "  <thead>\n",
              "    <tr style=\"text-align: right;\">\n",
              "      <th></th>\n",
              "      <th>학번</th>\n",
              "      <th>이름</th>\n",
              "      <th>성별</th>\n",
              "      <th>국어</th>\n",
              "      <th>영어</th>\n",
              "      <th>수학</th>\n",
              "    </tr>\n",
              "  </thead>\n",
              "  <tbody>\n",
              "    <tr>\n",
              "      <th>0</th>\n",
              "      <td>1101</td>\n",
              "      <td>amy</td>\n",
              "      <td>f</td>\n",
              "      <td>100.0</td>\n",
              "      <td>90</td>\n",
              "      <td>95.0</td>\n",
              "    </tr>\n",
              "    <tr>\n",
              "      <th>1</th>\n",
              "      <td>1102</td>\n",
              "      <td>mary</td>\n",
              "      <td>f</td>\n",
              "      <td>90.0</td>\n",
              "      <td>80</td>\n",
              "      <td>75.0</td>\n",
              "    </tr>\n",
              "    <tr>\n",
              "      <th>2</th>\n",
              "      <td>1103</td>\n",
              "      <td>isabella</td>\n",
              "      <td>f</td>\n",
              "      <td>95.0</td>\n",
              "      <td>100</td>\n",
              "      <td>100.0</td>\n",
              "    </tr>\n",
              "  </tbody>\n",
              "</table>\n",
              "</div>\n",
              "      <button class=\"colab-df-convert\" onclick=\"convertToInteractive('df-b6f337aa-925c-455a-b563-43c419610217')\"\n",
              "              title=\"Convert this dataframe to an interactive table.\"\n",
              "              style=\"display:none;\">\n",
              "        \n",
              "  <svg xmlns=\"http://www.w3.org/2000/svg\" height=\"24px\"viewBox=\"0 0 24 24\"\n",
              "       width=\"24px\">\n",
              "    <path d=\"M0 0h24v24H0V0z\" fill=\"none\"/>\n",
              "    <path d=\"M18.56 5.44l.94 2.06.94-2.06 2.06-.94-2.06-.94-.94-2.06-.94 2.06-2.06.94zm-11 1L8.5 8.5l.94-2.06 2.06-.94-2.06-.94L8.5 2.5l-.94 2.06-2.06.94zm10 10l.94 2.06.94-2.06 2.06-.94-2.06-.94-.94-2.06-.94 2.06-2.06.94z\"/><path d=\"M17.41 7.96l-1.37-1.37c-.4-.4-.92-.59-1.43-.59-.52 0-1.04.2-1.43.59L10.3 9.45l-7.72 7.72c-.78.78-.78 2.05 0 2.83L4 21.41c.39.39.9.59 1.41.59.51 0 1.02-.2 1.41-.59l7.78-7.78 2.81-2.81c.8-.78.8-2.07 0-2.86zM5.41 20L4 18.59l7.72-7.72 1.47 1.35L5.41 20z\"/>\n",
              "  </svg>\n",
              "      </button>\n",
              "      \n",
              "  <style>\n",
              "    .colab-df-container {\n",
              "      display:flex;\n",
              "      flex-wrap:wrap;\n",
              "      gap: 12px;\n",
              "    }\n",
              "\n",
              "    .colab-df-convert {\n",
              "      background-color: #E8F0FE;\n",
              "      border: none;\n",
              "      border-radius: 50%;\n",
              "      cursor: pointer;\n",
              "      display: none;\n",
              "      fill: #1967D2;\n",
              "      height: 32px;\n",
              "      padding: 0 0 0 0;\n",
              "      width: 32px;\n",
              "    }\n",
              "\n",
              "    .colab-df-convert:hover {\n",
              "      background-color: #E2EBFA;\n",
              "      box-shadow: 0px 1px 2px rgba(60, 64, 67, 0.3), 0px 1px 3px 1px rgba(60, 64, 67, 0.15);\n",
              "      fill: #174EA6;\n",
              "    }\n",
              "\n",
              "    [theme=dark] .colab-df-convert {\n",
              "      background-color: #3B4455;\n",
              "      fill: #D2E3FC;\n",
              "    }\n",
              "\n",
              "    [theme=dark] .colab-df-convert:hover {\n",
              "      background-color: #434B5C;\n",
              "      box-shadow: 0px 1px 3px 1px rgba(0, 0, 0, 0.15);\n",
              "      filter: drop-shadow(0px 1px 2px rgba(0, 0, 0, 0.3));\n",
              "      fill: #FFFFFF;\n",
              "    }\n",
              "  </style>\n",
              "\n",
              "      <script>\n",
              "        const buttonEl =\n",
              "          document.querySelector('#df-b6f337aa-925c-455a-b563-43c419610217 button.colab-df-convert');\n",
              "        buttonEl.style.display =\n",
              "          google.colab.kernel.accessAllowed ? 'block' : 'none';\n",
              "\n",
              "        async function convertToInteractive(key) {\n",
              "          const element = document.querySelector('#df-b6f337aa-925c-455a-b563-43c419610217');\n",
              "          const dataTable =\n",
              "            await google.colab.kernel.invokeFunction('convertToInteractive',\n",
              "                                                     [key], {});\n",
              "          if (!dataTable) return;\n",
              "\n",
              "          const docLinkHtml = 'Like what you see? Visit the ' +\n",
              "            '<a target=\"_blank\" href=https://colab.research.google.com/notebooks/data_table.ipynb>data table notebook</a>'\n",
              "            + ' to learn more about interactive tables.';\n",
              "          element.innerHTML = '';\n",
              "          dataTable['output_type'] = 'display_data';\n",
              "          await google.colab.output.renderOutput(dataTable, element);\n",
              "          const docLink = document.createElement('div');\n",
              "          docLink.innerHTML = docLinkHtml;\n",
              "          element.appendChild(docLink);\n",
              "        }\n",
              "      </script>\n",
              "    </div>\n",
              "  </div>\n",
              "  "
            ]
          },
          "metadata": {},
          "execution_count": 46
        }
      ]
    },
    {
      "cell_type": "code",
      "source": [
        "# 하위 3개행 미리보기\n",
        "scores.tail(3)"
      ],
      "metadata": {
        "id": "RlWInGEDLYhF",
        "colab": {
          "base_uri": "https://localhost:8080/",
          "height": 143
        },
        "outputId": "5deddaf8-02e1-4492-a192-c599d922342b"
      },
      "execution_count": 49,
      "outputs": [
        {
          "output_type": "execute_result",
          "data": {
            "text/plain": [
              "     학번      이름 성별     국어   영어    수학\n",
              "7  1108  patric  m   50.0   60   NaN\n",
              "8  1109   kevin  m  100.0  100  90.0\n",
              "9  1110    john  m   90.0   95  70.0"
            ],
            "text/html": [
              "\n",
              "  <div id=\"df-f4045dd1-9f41-424d-822a-20bbf9dc1843\">\n",
              "    <div class=\"colab-df-container\">\n",
              "      <div>\n",
              "<style scoped>\n",
              "    .dataframe tbody tr th:only-of-type {\n",
              "        vertical-align: middle;\n",
              "    }\n",
              "\n",
              "    .dataframe tbody tr th {\n",
              "        vertical-align: top;\n",
              "    }\n",
              "\n",
              "    .dataframe thead th {\n",
              "        text-align: right;\n",
              "    }\n",
              "</style>\n",
              "<table border=\"1\" class=\"dataframe\">\n",
              "  <thead>\n",
              "    <tr style=\"text-align: right;\">\n",
              "      <th></th>\n",
              "      <th>학번</th>\n",
              "      <th>이름</th>\n",
              "      <th>성별</th>\n",
              "      <th>국어</th>\n",
              "      <th>영어</th>\n",
              "      <th>수학</th>\n",
              "    </tr>\n",
              "  </thead>\n",
              "  <tbody>\n",
              "    <tr>\n",
              "      <th>7</th>\n",
              "      <td>1108</td>\n",
              "      <td>patric</td>\n",
              "      <td>m</td>\n",
              "      <td>50.0</td>\n",
              "      <td>60</td>\n",
              "      <td>NaN</td>\n",
              "    </tr>\n",
              "    <tr>\n",
              "      <th>8</th>\n",
              "      <td>1109</td>\n",
              "      <td>kevin</td>\n",
              "      <td>m</td>\n",
              "      <td>100.0</td>\n",
              "      <td>100</td>\n",
              "      <td>90.0</td>\n",
              "    </tr>\n",
              "    <tr>\n",
              "      <th>9</th>\n",
              "      <td>1110</td>\n",
              "      <td>john</td>\n",
              "      <td>m</td>\n",
              "      <td>90.0</td>\n",
              "      <td>95</td>\n",
              "      <td>70.0</td>\n",
              "    </tr>\n",
              "  </tbody>\n",
              "</table>\n",
              "</div>\n",
              "      <button class=\"colab-df-convert\" onclick=\"convertToInteractive('df-f4045dd1-9f41-424d-822a-20bbf9dc1843')\"\n",
              "              title=\"Convert this dataframe to an interactive table.\"\n",
              "              style=\"display:none;\">\n",
              "        \n",
              "  <svg xmlns=\"http://www.w3.org/2000/svg\" height=\"24px\"viewBox=\"0 0 24 24\"\n",
              "       width=\"24px\">\n",
              "    <path d=\"M0 0h24v24H0V0z\" fill=\"none\"/>\n",
              "    <path d=\"M18.56 5.44l.94 2.06.94-2.06 2.06-.94-2.06-.94-.94-2.06-.94 2.06-2.06.94zm-11 1L8.5 8.5l.94-2.06 2.06-.94-2.06-.94L8.5 2.5l-.94 2.06-2.06.94zm10 10l.94 2.06.94-2.06 2.06-.94-2.06-.94-.94-2.06-.94 2.06-2.06.94z\"/><path d=\"M17.41 7.96l-1.37-1.37c-.4-.4-.92-.59-1.43-.59-.52 0-1.04.2-1.43.59L10.3 9.45l-7.72 7.72c-.78.78-.78 2.05 0 2.83L4 21.41c.39.39.9.59 1.41.59.51 0 1.02-.2 1.41-.59l7.78-7.78 2.81-2.81c.8-.78.8-2.07 0-2.86zM5.41 20L4 18.59l7.72-7.72 1.47 1.35L5.41 20z\"/>\n",
              "  </svg>\n",
              "      </button>\n",
              "      \n",
              "  <style>\n",
              "    .colab-df-container {\n",
              "      display:flex;\n",
              "      flex-wrap:wrap;\n",
              "      gap: 12px;\n",
              "    }\n",
              "\n",
              "    .colab-df-convert {\n",
              "      background-color: #E8F0FE;\n",
              "      border: none;\n",
              "      border-radius: 50%;\n",
              "      cursor: pointer;\n",
              "      display: none;\n",
              "      fill: #1967D2;\n",
              "      height: 32px;\n",
              "      padding: 0 0 0 0;\n",
              "      width: 32px;\n",
              "    }\n",
              "\n",
              "    .colab-df-convert:hover {\n",
              "      background-color: #E2EBFA;\n",
              "      box-shadow: 0px 1px 2px rgba(60, 64, 67, 0.3), 0px 1px 3px 1px rgba(60, 64, 67, 0.15);\n",
              "      fill: #174EA6;\n",
              "    }\n",
              "\n",
              "    [theme=dark] .colab-df-convert {\n",
              "      background-color: #3B4455;\n",
              "      fill: #D2E3FC;\n",
              "    }\n",
              "\n",
              "    [theme=dark] .colab-df-convert:hover {\n",
              "      background-color: #434B5C;\n",
              "      box-shadow: 0px 1px 3px 1px rgba(0, 0, 0, 0.15);\n",
              "      filter: drop-shadow(0px 1px 2px rgba(0, 0, 0, 0.3));\n",
              "      fill: #FFFFFF;\n",
              "    }\n",
              "  </style>\n",
              "\n",
              "      <script>\n",
              "        const buttonEl =\n",
              "          document.querySelector('#df-f4045dd1-9f41-424d-822a-20bbf9dc1843 button.colab-df-convert');\n",
              "        buttonEl.style.display =\n",
              "          google.colab.kernel.accessAllowed ? 'block' : 'none';\n",
              "\n",
              "        async function convertToInteractive(key) {\n",
              "          const element = document.querySelector('#df-f4045dd1-9f41-424d-822a-20bbf9dc1843');\n",
              "          const dataTable =\n",
              "            await google.colab.kernel.invokeFunction('convertToInteractive',\n",
              "                                                     [key], {});\n",
              "          if (!dataTable) return;\n",
              "\n",
              "          const docLinkHtml = 'Like what you see? Visit the ' +\n",
              "            '<a target=\"_blank\" href=https://colab.research.google.com/notebooks/data_table.ipynb>data table notebook</a>'\n",
              "            + ' to learn more about interactive tables.';\n",
              "          element.innerHTML = '';\n",
              "          dataTable['output_type'] = 'display_data';\n",
              "          await google.colab.output.renderOutput(dataTable, element);\n",
              "          const docLink = document.createElement('div');\n",
              "          docLink.innerHTML = docLinkHtml;\n",
              "          element.appendChild(docLink);\n",
              "        }\n",
              "      </script>\n",
              "    </div>\n",
              "  </div>\n",
              "  "
            ]
          },
          "metadata": {},
          "execution_count": 49
        }
      ]
    },
    {
      "cell_type": "code",
      "source": [
        "# 랜덤 3개행 미리보기\n",
        "scores.sample(3)"
      ],
      "metadata": {
        "id": "PHKtHKv9CkTP",
        "colab": {
          "base_uri": "https://localhost:8080/",
          "height": 143
        },
        "outputId": "13b0fa75-403b-4d78-82d3-7bf9afa01ccc"
      },
      "execution_count": 50,
      "outputs": [
        {
          "output_type": "execute_result",
          "data": {
            "text/plain": [
              "     학번      이름 성별     국어   영어     수학\n",
              "3  1104  evelyn  f  100.0  100  100.0\n",
              "8  1109   kevin  m  100.0  100   90.0\n",
              "5  1106   allen  m   70.0   75   65.0"
            ],
            "text/html": [
              "\n",
              "  <div id=\"df-709f3480-53ae-486d-b653-0bfe2dc95f39\">\n",
              "    <div class=\"colab-df-container\">\n",
              "      <div>\n",
              "<style scoped>\n",
              "    .dataframe tbody tr th:only-of-type {\n",
              "        vertical-align: middle;\n",
              "    }\n",
              "\n",
              "    .dataframe tbody tr th {\n",
              "        vertical-align: top;\n",
              "    }\n",
              "\n",
              "    .dataframe thead th {\n",
              "        text-align: right;\n",
              "    }\n",
              "</style>\n",
              "<table border=\"1\" class=\"dataframe\">\n",
              "  <thead>\n",
              "    <tr style=\"text-align: right;\">\n",
              "      <th></th>\n",
              "      <th>학번</th>\n",
              "      <th>이름</th>\n",
              "      <th>성별</th>\n",
              "      <th>국어</th>\n",
              "      <th>영어</th>\n",
              "      <th>수학</th>\n",
              "    </tr>\n",
              "  </thead>\n",
              "  <tbody>\n",
              "    <tr>\n",
              "      <th>3</th>\n",
              "      <td>1104</td>\n",
              "      <td>evelyn</td>\n",
              "      <td>f</td>\n",
              "      <td>100.0</td>\n",
              "      <td>100</td>\n",
              "      <td>100.0</td>\n",
              "    </tr>\n",
              "    <tr>\n",
              "      <th>8</th>\n",
              "      <td>1109</td>\n",
              "      <td>kevin</td>\n",
              "      <td>m</td>\n",
              "      <td>100.0</td>\n",
              "      <td>100</td>\n",
              "      <td>90.0</td>\n",
              "    </tr>\n",
              "    <tr>\n",
              "      <th>5</th>\n",
              "      <td>1106</td>\n",
              "      <td>allen</td>\n",
              "      <td>m</td>\n",
              "      <td>70.0</td>\n",
              "      <td>75</td>\n",
              "      <td>65.0</td>\n",
              "    </tr>\n",
              "  </tbody>\n",
              "</table>\n",
              "</div>\n",
              "      <button class=\"colab-df-convert\" onclick=\"convertToInteractive('df-709f3480-53ae-486d-b653-0bfe2dc95f39')\"\n",
              "              title=\"Convert this dataframe to an interactive table.\"\n",
              "              style=\"display:none;\">\n",
              "        \n",
              "  <svg xmlns=\"http://www.w3.org/2000/svg\" height=\"24px\"viewBox=\"0 0 24 24\"\n",
              "       width=\"24px\">\n",
              "    <path d=\"M0 0h24v24H0V0z\" fill=\"none\"/>\n",
              "    <path d=\"M18.56 5.44l.94 2.06.94-2.06 2.06-.94-2.06-.94-.94-2.06-.94 2.06-2.06.94zm-11 1L8.5 8.5l.94-2.06 2.06-.94-2.06-.94L8.5 2.5l-.94 2.06-2.06.94zm10 10l.94 2.06.94-2.06 2.06-.94-2.06-.94-.94-2.06-.94 2.06-2.06.94z\"/><path d=\"M17.41 7.96l-1.37-1.37c-.4-.4-.92-.59-1.43-.59-.52 0-1.04.2-1.43.59L10.3 9.45l-7.72 7.72c-.78.78-.78 2.05 0 2.83L4 21.41c.39.39.9.59 1.41.59.51 0 1.02-.2 1.41-.59l7.78-7.78 2.81-2.81c.8-.78.8-2.07 0-2.86zM5.41 20L4 18.59l7.72-7.72 1.47 1.35L5.41 20z\"/>\n",
              "  </svg>\n",
              "      </button>\n",
              "      \n",
              "  <style>\n",
              "    .colab-df-container {\n",
              "      display:flex;\n",
              "      flex-wrap:wrap;\n",
              "      gap: 12px;\n",
              "    }\n",
              "\n",
              "    .colab-df-convert {\n",
              "      background-color: #E8F0FE;\n",
              "      border: none;\n",
              "      border-radius: 50%;\n",
              "      cursor: pointer;\n",
              "      display: none;\n",
              "      fill: #1967D2;\n",
              "      height: 32px;\n",
              "      padding: 0 0 0 0;\n",
              "      width: 32px;\n",
              "    }\n",
              "\n",
              "    .colab-df-convert:hover {\n",
              "      background-color: #E2EBFA;\n",
              "      box-shadow: 0px 1px 2px rgba(60, 64, 67, 0.3), 0px 1px 3px 1px rgba(60, 64, 67, 0.15);\n",
              "      fill: #174EA6;\n",
              "    }\n",
              "\n",
              "    [theme=dark] .colab-df-convert {\n",
              "      background-color: #3B4455;\n",
              "      fill: #D2E3FC;\n",
              "    }\n",
              "\n",
              "    [theme=dark] .colab-df-convert:hover {\n",
              "      background-color: #434B5C;\n",
              "      box-shadow: 0px 1px 3px 1px rgba(0, 0, 0, 0.15);\n",
              "      filter: drop-shadow(0px 1px 2px rgba(0, 0, 0, 0.3));\n",
              "      fill: #FFFFFF;\n",
              "    }\n",
              "  </style>\n",
              "\n",
              "      <script>\n",
              "        const buttonEl =\n",
              "          document.querySelector('#df-709f3480-53ae-486d-b653-0bfe2dc95f39 button.colab-df-convert');\n",
              "        buttonEl.style.display =\n",
              "          google.colab.kernel.accessAllowed ? 'block' : 'none';\n",
              "\n",
              "        async function convertToInteractive(key) {\n",
              "          const element = document.querySelector('#df-709f3480-53ae-486d-b653-0bfe2dc95f39');\n",
              "          const dataTable =\n",
              "            await google.colab.kernel.invokeFunction('convertToInteractive',\n",
              "                                                     [key], {});\n",
              "          if (!dataTable) return;\n",
              "\n",
              "          const docLinkHtml = 'Like what you see? Visit the ' +\n",
              "            '<a target=\"_blank\" href=https://colab.research.google.com/notebooks/data_table.ipynb>data table notebook</a>'\n",
              "            + ' to learn more about interactive tables.';\n",
              "          element.innerHTML = '';\n",
              "          dataTable['output_type'] = 'display_data';\n",
              "          await google.colab.output.renderOutput(dataTable, element);\n",
              "          const docLink = document.createElement('div');\n",
              "          docLink.innerHTML = docLinkHtml;\n",
              "          element.appendChild(docLink);\n",
              "        }\n",
              "      </script>\n",
              "    </div>\n",
              "  </div>\n",
              "  "
            ]
          },
          "metadata": {},
          "execution_count": 50
        }
      ]
    },
    {
      "cell_type": "code",
      "source": [
        "# 랜덤 20% 미리보기\n",
        "scores.sample(frac=0.2)"
      ],
      "metadata": {
        "id": "5dfhs9imJabv",
        "colab": {
          "base_uri": "https://localhost:8080/",
          "height": 112
        },
        "outputId": "dc798c90-de2c-42ee-f583-8f18e59b794e"
      },
      "execution_count": 51,
      "outputs": [
        {
          "output_type": "execute_result",
          "data": {
            "text/plain": [
              "     학번    이름 성별    국어  영어    수학\n",
              "9  1110  john  m  90.0  95  70.0\n",
              "1  1102  mary  f  90.0  80  75.0"
            ],
            "text/html": [
              "\n",
              "  <div id=\"df-4b49969b-1caa-4cd6-bc5e-6c8ae97b38d8\">\n",
              "    <div class=\"colab-df-container\">\n",
              "      <div>\n",
              "<style scoped>\n",
              "    .dataframe tbody tr th:only-of-type {\n",
              "        vertical-align: middle;\n",
              "    }\n",
              "\n",
              "    .dataframe tbody tr th {\n",
              "        vertical-align: top;\n",
              "    }\n",
              "\n",
              "    .dataframe thead th {\n",
              "        text-align: right;\n",
              "    }\n",
              "</style>\n",
              "<table border=\"1\" class=\"dataframe\">\n",
              "  <thead>\n",
              "    <tr style=\"text-align: right;\">\n",
              "      <th></th>\n",
              "      <th>학번</th>\n",
              "      <th>이름</th>\n",
              "      <th>성별</th>\n",
              "      <th>국어</th>\n",
              "      <th>영어</th>\n",
              "      <th>수학</th>\n",
              "    </tr>\n",
              "  </thead>\n",
              "  <tbody>\n",
              "    <tr>\n",
              "      <th>9</th>\n",
              "      <td>1110</td>\n",
              "      <td>john</td>\n",
              "      <td>m</td>\n",
              "      <td>90.0</td>\n",
              "      <td>95</td>\n",
              "      <td>70.0</td>\n",
              "    </tr>\n",
              "    <tr>\n",
              "      <th>1</th>\n",
              "      <td>1102</td>\n",
              "      <td>mary</td>\n",
              "      <td>f</td>\n",
              "      <td>90.0</td>\n",
              "      <td>80</td>\n",
              "      <td>75.0</td>\n",
              "    </tr>\n",
              "  </tbody>\n",
              "</table>\n",
              "</div>\n",
              "      <button class=\"colab-df-convert\" onclick=\"convertToInteractive('df-4b49969b-1caa-4cd6-bc5e-6c8ae97b38d8')\"\n",
              "              title=\"Convert this dataframe to an interactive table.\"\n",
              "              style=\"display:none;\">\n",
              "        \n",
              "  <svg xmlns=\"http://www.w3.org/2000/svg\" height=\"24px\"viewBox=\"0 0 24 24\"\n",
              "       width=\"24px\">\n",
              "    <path d=\"M0 0h24v24H0V0z\" fill=\"none\"/>\n",
              "    <path d=\"M18.56 5.44l.94 2.06.94-2.06 2.06-.94-2.06-.94-.94-2.06-.94 2.06-2.06.94zm-11 1L8.5 8.5l.94-2.06 2.06-.94-2.06-.94L8.5 2.5l-.94 2.06-2.06.94zm10 10l.94 2.06.94-2.06 2.06-.94-2.06-.94-.94-2.06-.94 2.06-2.06.94z\"/><path d=\"M17.41 7.96l-1.37-1.37c-.4-.4-.92-.59-1.43-.59-.52 0-1.04.2-1.43.59L10.3 9.45l-7.72 7.72c-.78.78-.78 2.05 0 2.83L4 21.41c.39.39.9.59 1.41.59.51 0 1.02-.2 1.41-.59l7.78-7.78 2.81-2.81c.8-.78.8-2.07 0-2.86zM5.41 20L4 18.59l7.72-7.72 1.47 1.35L5.41 20z\"/>\n",
              "  </svg>\n",
              "      </button>\n",
              "      \n",
              "  <style>\n",
              "    .colab-df-container {\n",
              "      display:flex;\n",
              "      flex-wrap:wrap;\n",
              "      gap: 12px;\n",
              "    }\n",
              "\n",
              "    .colab-df-convert {\n",
              "      background-color: #E8F0FE;\n",
              "      border: none;\n",
              "      border-radius: 50%;\n",
              "      cursor: pointer;\n",
              "      display: none;\n",
              "      fill: #1967D2;\n",
              "      height: 32px;\n",
              "      padding: 0 0 0 0;\n",
              "      width: 32px;\n",
              "    }\n",
              "\n",
              "    .colab-df-convert:hover {\n",
              "      background-color: #E2EBFA;\n",
              "      box-shadow: 0px 1px 2px rgba(60, 64, 67, 0.3), 0px 1px 3px 1px rgba(60, 64, 67, 0.15);\n",
              "      fill: #174EA6;\n",
              "    }\n",
              "\n",
              "    [theme=dark] .colab-df-convert {\n",
              "      background-color: #3B4455;\n",
              "      fill: #D2E3FC;\n",
              "    }\n",
              "\n",
              "    [theme=dark] .colab-df-convert:hover {\n",
              "      background-color: #434B5C;\n",
              "      box-shadow: 0px 1px 3px 1px rgba(0, 0, 0, 0.15);\n",
              "      filter: drop-shadow(0px 1px 2px rgba(0, 0, 0, 0.3));\n",
              "      fill: #FFFFFF;\n",
              "    }\n",
              "  </style>\n",
              "\n",
              "      <script>\n",
              "        const buttonEl =\n",
              "          document.querySelector('#df-4b49969b-1caa-4cd6-bc5e-6c8ae97b38d8 button.colab-df-convert');\n",
              "        buttonEl.style.display =\n",
              "          google.colab.kernel.accessAllowed ? 'block' : 'none';\n",
              "\n",
              "        async function convertToInteractive(key) {\n",
              "          const element = document.querySelector('#df-4b49969b-1caa-4cd6-bc5e-6c8ae97b38d8');\n",
              "          const dataTable =\n",
              "            await google.colab.kernel.invokeFunction('convertToInteractive',\n",
              "                                                     [key], {});\n",
              "          if (!dataTable) return;\n",
              "\n",
              "          const docLinkHtml = 'Like what you see? Visit the ' +\n",
              "            '<a target=\"_blank\" href=https://colab.research.google.com/notebooks/data_table.ipynb>data table notebook</a>'\n",
              "            + ' to learn more about interactive tables.';\n",
              "          element.innerHTML = '';\n",
              "          dataTable['output_type'] = 'display_data';\n",
              "          await google.colab.output.renderOutput(dataTable, element);\n",
              "          const docLink = document.createElement('div');\n",
              "          docLink.innerHTML = docLinkHtml;\n",
              "          element.appendChild(docLink);\n",
              "        }\n",
              "      </script>\n",
              "    </div>\n",
              "  </div>\n",
              "  "
            ]
          },
          "metadata": {},
          "execution_count": 51
        }
      ]
    },
    {
      "cell_type": "markdown",
      "source": [
        "## 데이터프레임 구조 보기\n",
        "* 데이터프레임 구조 \n",
        "  * **`데이터프레임객체.info()`**\n",
        "* 행,열의 크기\n",
        "  * **`데이터프레임객체.shape`**\n",
        "* 데이터 갯수\n",
        "  * **`데이터프레임객체.size`**\n",
        "* 데이터프레임 컬럼별 자료형\n",
        "  * **`데이터프레임객체.dtypes`**"
      ],
      "metadata": {
        "id": "RmJKv0X8JG2Y"
      }
    },
    {
      "cell_type": "code",
      "source": [
        "# 데이터프레임 구조\n"
      ],
      "metadata": {
        "id": "zFNWnaKoLaEg"
      },
      "execution_count": null,
      "outputs": []
    },
    {
      "cell_type": "code",
      "source": [
        "# 데이터프레임 행,열 크기\n"
      ],
      "metadata": {
        "id": "D82_NN-HLbcJ"
      },
      "execution_count": null,
      "outputs": []
    },
    {
      "cell_type": "code",
      "source": [
        "# 데이터프레임 개수\n"
      ],
      "metadata": {
        "id": "4r9AfdtuMMaM"
      },
      "execution_count": null,
      "outputs": []
    },
    {
      "cell_type": "code",
      "source": [
        "# 데이터프레임 컬럼별 자료형\n"
      ],
      "metadata": {
        "id": "Jw_TPjx491sM"
      },
      "execution_count": null,
      "outputs": []
    },
    {
      "cell_type": "markdown",
      "source": [
        "# DataFrame 탐색"
      ],
      "metadata": {
        "id": "c2yYZKDXKQw3"
      }
    },
    {
      "cell_type": "markdown",
      "source": [
        "## 통계값 확인하기\n",
        "* 통계값은 데이터의 자료형이 숫자형인 경우 사용할 수 있다.\n",
        "* 요약통계\n",
        "  * **`데이터프레임객체.describe()`**\n",
        "  * **`시리즈객체.describe()`**\n",
        "* 컬럼별 통계\n",
        "  * **`데이터프레임객체.통계함수()`**\n",
        "  * **`시리즈객체.mean()`**\n",
        "  * 개별통계함수 : mean(), min(), max(), median(), std() 등\n"
      ],
      "metadata": {
        "id": "agObOlWeKbkZ"
      }
    },
    {
      "cell_type": "code",
      "source": [
        "# 요약통계 (DataFrame)\n",
        "scores.describe()"
      ],
      "metadata": {
        "id": "YwfnsohMK6gb"
      },
      "execution_count": null,
      "outputs": []
    },
    {
      "cell_type": "code",
      "source": [
        "# 요약통계 (Series 객체)\n",
        "scores['국어'].describe()"
      ],
      "metadata": {
        "id": "kzEuOmN_1KyR"
      },
      "execution_count": null,
      "outputs": []
    },
    {
      "cell_type": "code",
      "source": [
        "# 개별통계: 평균\n",
        "scores.mean()"
      ],
      "metadata": {
        "id": "4N_5IZV9C0zZ"
      },
      "execution_count": null,
      "outputs": []
    },
    {
      "cell_type": "code",
      "source": [
        "# 개별통계: 최소\n"
      ],
      "metadata": {
        "id": "r4jYRJxW1vhJ"
      },
      "execution_count": null,
      "outputs": []
    },
    {
      "cell_type": "code",
      "source": [
        "# 개별통계: 최대\n"
      ],
      "metadata": {
        "id": "SlzfEiZM1vw3"
      },
      "execution_count": null,
      "outputs": []
    },
    {
      "cell_type": "code",
      "source": [
        "# 개별통계: 중간값\n"
      ],
      "metadata": {
        "id": "Z9duR5HZ1v85"
      },
      "execution_count": null,
      "outputs": []
    },
    {
      "cell_type": "code",
      "source": [
        "# 개별통계: 표준편차\n"
      ],
      "metadata": {
        "id": "3Wk5lyBk1wSU"
      },
      "execution_count": null,
      "outputs": []
    },
    {
      "cell_type": "markdown",
      "source": [
        "## 유니크한 데이터 보기\n",
        "* `unique()` : unique란, Pandas에서 해당 칼럼이 갖고 있는 유일한 값을 의미합니다. unique 관련 함수를 통해 해당 칼럼이 갖고 있는 유일한 값과 그 값의 개수를 구할 수 있습니다. 단, 시리즈객체에만 적용 가능합니다.\n",
        "* 시리즈객체.unique() --> 유니크한 데이터 추출\n",
        "* 시리즈객체.nunique() --> 유니크한 데이터의 갯수 추출"
      ],
      "metadata": {
        "id": "4eDDmxFwLDoJ"
      }
    },
    {
      "cell_type": "code",
      "source": [
        "# unique한 데이터 추출\n"
      ],
      "metadata": {
        "id": "B-xjpi6nC2rW"
      },
      "execution_count": null,
      "outputs": []
    },
    {
      "cell_type": "code",
      "source": [
        "# unique한 데이터 개수 추출\n"
      ],
      "metadata": {
        "id": "BM7Q9nos2Par"
      },
      "execution_count": null,
      "outputs": []
    },
    {
      "cell_type": "markdown",
      "source": [
        "## 데이터 별 값의 갯수 보기(빈도수)\n",
        "* `value_counts()`\n",
        "* 데이터프레임객체.value_counts()\n",
        "* 시리즈객체.value_counts()"
      ],
      "metadata": {
        "id": "xKd8Mx3pLH4C"
      }
    },
    {
      "cell_type": "code",
      "source": [
        "# 데이터프레임객체로 데이터 별 빈도수 보기\n"
      ],
      "metadata": {
        "id": "iCntqcqsC4M0"
      },
      "execution_count": null,
      "outputs": []
    },
    {
      "cell_type": "code",
      "source": [
        "# 시리즈객체로 데이터 별 빈도수 보기\n"
      ],
      "metadata": {
        "id": "DOiL5SZL2rdQ"
      },
      "execution_count": null,
      "outputs": []
    },
    {
      "cell_type": "markdown",
      "source": [
        "## 데이터 정렬하기\n",
        "* 인덱스로 정렬\n",
        "    * 시리즈객체.sort_index()\n",
        "    * 데이터프레임객체.sort_index()\n",
        "* 값으로 정렬\n",
        "    * 시리즈객체.sort_values()\n",
        "    * 데이터프레임객체.sort_values(정렬기준컬럼[리스트])\n",
        "    * 사용 예시: 데이터프레임객체.sort_values(['나이'])\n",
        "* 정렬방법\n",
        "    * 기본은 오름차순\n",
        "    * 내림차순 정렬 옵션 : `ascending=False`\n",
        "    * 사용 예시: 데이터프레임객체.sort_values(['나이'], ascending=False)"
      ],
      "metadata": {
        "id": "aW3nWKGBLPgH"
      }
    },
    {
      "cell_type": "code",
      "source": [
        "# 인덱스로 정렬하기\n"
      ],
      "metadata": {
        "id": "E_77VSLbC44G"
      },
      "execution_count": null,
      "outputs": []
    },
    {
      "cell_type": "code",
      "source": [
        "# 값으로 정렬하기\n"
      ],
      "metadata": {
        "id": "-x0A95wK3KxH"
      },
      "execution_count": null,
      "outputs": []
    },
    {
      "cell_type": "code",
      "source": [
        "# 내림차순으로 정렬하기\n"
      ],
      "metadata": {
        "id": "Q4VPMyVa3L5K"
      },
      "execution_count": null,
      "outputs": []
    },
    {
      "cell_type": "markdown",
      "source": [
        "# 데이터 선택"
      ],
      "metadata": {
        "id": "uR1966QYxqNm"
      }
    },
    {
      "cell_type": "markdown",
      "source": [
        "## 컬럼의 데이터 조회 및 선택\n",
        "* 데이터프레임객체['컬럼명']\n",
        "* 데이터프레임객체[컬럼명리스트]"
      ],
      "metadata": {
        "id": "zuVgQdnT0iEe"
      }
    },
    {
      "cell_type": "code",
      "source": [
        "# '이름' 컬럼의 데이터 조회\n",
        "scores['이름']"
      ],
      "metadata": {
        "id": "R3rS8BaW01LS"
      },
      "execution_count": null,
      "outputs": []
    },
    {
      "cell_type": "code",
      "source": [
        "# 여러 컬럼의 데이터를 조회할 때는 리스트 형태로 넣어줍니다.\n",
        "# scores[['column1', 'column2']]\n"
      ],
      "metadata": {
        "id": "uvotUNPwHgQH"
      },
      "execution_count": null,
      "outputs": []
    },
    {
      "cell_type": "code",
      "source": [
        "# '이름','국어' 컬럼의 데이터 선택\n"
      ],
      "metadata": {
        "id": "KCHFnI1v05uM"
      },
      "execution_count": null,
      "outputs": []
    },
    {
      "cell_type": "code",
      "source": [
        "# '이름','성별' 컬럼의 데이터 선택\n"
      ],
      "metadata": {
        "id": "Ak7rNZvKd7Nu"
      },
      "execution_count": null,
      "outputs": []
    },
    {
      "cell_type": "markdown",
      "source": [
        "## 행,열 데이터 선택"
      ],
      "metadata": {
        "id": "rUtcidyi0kgP"
      }
    },
    {
      "cell_type": "markdown",
      "source": [
        "### loc[행,열] : 행이름,열이름 사용\n",
        "* 행 - 행이름, 행이름리스트, 행이름슬라이스\n",
        "* 열 - 열이름, 열이름리스트, 열이름슬라이스\n",
        "* 이름으로 슬라이스 할 때는 마지막데이터 포함"
      ],
      "metadata": {
        "id": "3UU_G-FX1Fyj"
      }
    },
    {
      "cell_type": "code",
      "source": [
        "# 인덱스(학번)가 1101인 학생의 데이터 선택\n",
        "scores.loc[1101]"
      ],
      "metadata": {
        "id": "8BnHI5vWD1la"
      },
      "execution_count": null,
      "outputs": []
    },
    {
      "cell_type": "code",
      "source": [
        "# 인덱스(학번)가 1101, 1105인 학생의 데이터 선택\n"
      ],
      "metadata": {
        "id": "ta4bdNWgFA72"
      },
      "execution_count": null,
      "outputs": []
    },
    {
      "cell_type": "code",
      "source": [
        "# 인덱스 1101부터 1103까지 선택\n"
      ],
      "metadata": {
        "id": "8f_jcstIFHmX"
      },
      "execution_count": null,
      "outputs": []
    },
    {
      "cell_type": "code",
      "source": [
        "# 인덱스가 1103인 학생의 '이름'을 선택\n"
      ],
      "metadata": {
        "id": "wkgx-KhPFOWB"
      },
      "execution_count": null,
      "outputs": []
    },
    {
      "cell_type": "code",
      "source": [
        "# 인덱스가 1103인 학생의 '이름'과 '수학'점수를 선택\n"
      ],
      "metadata": {
        "id": "zhYaQlGCDyMR"
      },
      "execution_count": null,
      "outputs": []
    },
    {
      "cell_type": "code",
      "source": [
        "# 인덱스가 1101, 1102인 학생의 '국어'~'영어' 점수를 선택\n",
        "scores.loc[[1101, 1102], '국어':'영어']"
      ],
      "metadata": {
        "id": "L0YMvDRq7W0c"
      },
      "execution_count": null,
      "outputs": []
    },
    {
      "cell_type": "code",
      "source": [
        "# 인덱스가 1101부터 1105까지인 학생의 '국어'~'수학' 점수를 선택\n"
      ],
      "metadata": {
        "id": "BLklceXzGbu3"
      },
      "execution_count": null,
      "outputs": []
    },
    {
      "cell_type": "markdown",
      "source": [
        "### iloc[행,열] : 행번호,열번호 사용\n",
        "* 행 - 행번호, 행번호리스트, 행번호슬라이스\n",
        "* 열 - 열번호, 열번호리스트, 열번호슬라이스\n",
        "* 번호로 슬라이스 할 때는 마지막데이터 미포함\n",
        "  * 사용 예시: 데이터프레임객체.iloc[0:1, -1:]"
      ],
      "metadata": {
        "id": "BIddY6nT1hMY"
      }
    },
    {
      "cell_type": "code",
      "source": [
        "# 0번 행의 학생 데이터 선택\n",
        "scores.iloc[0]"
      ],
      "metadata": {
        "id": "b14WxP7x0gu2"
      },
      "execution_count": null,
      "outputs": []
    },
    {
      "cell_type": "code",
      "source": [
        "# 0~2번 행의 마지막 열 데이터 선택\n"
      ],
      "metadata": {
        "id": "22mPbn3yIxo7"
      },
      "execution_count": 2,
      "outputs": []
    },
    {
      "cell_type": "code",
      "source": [
        "# 1,2,4번 열의 모든 행을 선택\n"
      ],
      "metadata": {
        "id": "TDZvU-brJCCw"
      },
      "execution_count": 3,
      "outputs": []
    },
    {
      "cell_type": "markdown",
      "source": [
        "## 조건으로 데이터 선택\n",
        "* **`데이터프레임객체[조건]`**\n",
        "* 비교연산\n",
        "  * 비교연산자는 기본 파이썬의 비교연산자와 동일하다 : >, <, >=, <=, ==, !=\n",
        "* 논리연산\n",
        "  * 여러 조건을 결합하는 경우 각 조건은 소괄호로 묶는다.\n",
        "  * 논리연산자는 기호를 사용한다.\n",
        "    * and-->&, or-->|, not-->^\n",
        "* 멤버연산\n",
        "  * 데이터프레임객체[컬럼명].isin(value리스트)\n",
        "* null여부\n",
        "   * 데이터프레임객체[컬럼명].isnull()\n",
        "   * 데이터프레임객체[컬럼명].notnull()"
      ],
      "metadata": {
        "id": "w0RZXjgoJ_QZ"
      }
    },
    {
      "cell_type": "code",
      "source": [
        "# 국어점수가 100점인 학생의 모든 데이터 \n"
      ],
      "metadata": {
        "id": "cJIcOI0-KCiO"
      },
      "execution_count": 4,
      "outputs": []
    },
    {
      "cell_type": "code",
      "source": [
        "# 국어점수가 100점인 학생의 이름, 성별, 국어 \n",
        "scores[['이름', '성별', '국어']][scores['국어']==100]"
      ],
      "metadata": {
        "id": "mcvskbS4pBUA",
        "colab": {
          "base_uri": "https://localhost:8080/",
          "height": 190
        },
        "outputId": "f02c2fee-014f-4eb3-ac58-5a5972fd9c65"
      },
      "execution_count": 5,
      "outputs": [
        {
          "output_type": "error",
          "ename": "NameError",
          "evalue": "ignored",
          "traceback": [
            "\u001b[0;31m---------------------------------------------------------------------------\u001b[0m",
            "\u001b[0;31mNameError\u001b[0m                                 Traceback (most recent call last)",
            "\u001b[0;32m<ipython-input-5-10c4f20339b0>\u001b[0m in \u001b[0;36m<module>\u001b[0;34m\u001b[0m\n\u001b[1;32m      1\u001b[0m \u001b[0;31m# 국어점수가 100점인 학생의 이름, 성별, 국어\u001b[0m\u001b[0;34m\u001b[0m\u001b[0;34m\u001b[0m\u001b[0;34m\u001b[0m\u001b[0m\n\u001b[0;32m----> 2\u001b[0;31m \u001b[0mscores\u001b[0m\u001b[0;34m[\u001b[0m\u001b[0;34m[\u001b[0m\u001b[0;34m'이름'\u001b[0m\u001b[0;34m,\u001b[0m \u001b[0;34m'성별'\u001b[0m\u001b[0;34m,\u001b[0m \u001b[0;34m'국어'\u001b[0m\u001b[0;34m]\u001b[0m\u001b[0;34m]\u001b[0m\u001b[0;34m[\u001b[0m\u001b[0mscores\u001b[0m\u001b[0;34m[\u001b[0m\u001b[0;34m'국어'\u001b[0m\u001b[0;34m]\u001b[0m\u001b[0;34m==\u001b[0m\u001b[0;36m100\u001b[0m\u001b[0;34m]\u001b[0m\u001b[0;34m\u001b[0m\u001b[0;34m\u001b[0m\u001b[0m\n\u001b[0m",
            "\u001b[0;31mNameError\u001b[0m: name 'scores' is not defined"
          ]
        }
      ]
    },
    {
      "cell_type": "code",
      "source": [
        "# 국어,영어,수학 모두 100점인 학생의 모든 데이터\n",
        "scores[(scores['국어']==100)&(scores['영어']==100)&(scores['수학']==100)]"
      ],
      "metadata": {
        "id": "JAvZ9c0PKYDs"
      },
      "execution_count": null,
      "outputs": []
    },
    {
      "cell_type": "code",
      "source": [
        "# 국어,영어,수학 중 100점이 하나라도 있는 학생의 모든 데이터\n"
      ],
      "metadata": {
        "id": "kKNdK-ByKmJe"
      },
      "execution_count": null,
      "outputs": []
    },
    {
      "cell_type": "code",
      "source": [
        "# 국어점수가 50점, 100점인 학생의 모든 데이터\n",
        "scores[(scores['국어']==50)|(scores['국어']==100)]"
      ],
      "metadata": {
        "id": "NX0UDgJ9MMVf"
      },
      "execution_count": null,
      "outputs": []
    },
    {
      "cell_type": "code",
      "source": [
        "# 국어점수가 null인 학생의 모든 데이터\n"
      ],
      "metadata": {
        "id": "iDoP08vlMRh7"
      },
      "execution_count": null,
      "outputs": []
    },
    {
      "cell_type": "code",
      "source": [
        "# 국어점수가 null이 아닌 학생의 모든 데이터\n"
      ],
      "metadata": {
        "id": "gam97CueMUej"
      },
      "execution_count": null,
      "outputs": []
    },
    {
      "cell_type": "markdown",
      "source": [
        "# 열 변경\n"
      ],
      "metadata": {
        "id": "hZuAzuZ8NAIw"
      }
    },
    {
      "cell_type": "markdown",
      "source": [
        "## 열 추가/수정하기\n",
        "* **데이터프레임[컬럼] = 추가할데이터**  \n",
        "* **데이터프레임[컬럼] = 수정할데이터**  \n",
        "컬럼이 존재하면 추가, 존재하지 않으면 수정된다."
      ],
      "metadata": {
        "id": "tjr4cFalNKGg"
      }
    },
    {
      "cell_type": "code",
      "source": [
        "# 데이터프레임객체에 새로운 데이터의 컬럼 추가\n",
        "scores['재시험여부'] = 'O'\n",
        "scores"
      ],
      "metadata": {
        "id": "K0I2hjIDDC9m"
      },
      "execution_count": null,
      "outputs": []
    },
    {
      "cell_type": "code",
      "source": [
        "# 데이터프레임객체에 재시험여부를 'X'로 변경\n",
        "scores['재시험여부'] = 'X'\n",
        "scores"
      ],
      "metadata": {
        "id": "Q6jby-UxAES7"
      },
      "execution_count": null,
      "outputs": []
    },
    {
      "cell_type": "markdown",
      "source": [
        "## 열 삭제하기\n",
        "* 데이터프레임.**drop**(columns=삭제할컬럼리스트, inplace=True)\n",
        "* 존재하지 않는 열은 삭제할 수 없다."
      ],
      "metadata": {
        "id": "Y-HuPvoyNM5A"
      }
    },
    {
      "cell_type": "code",
      "source": [
        "scores.drop(columns=['재시험여부'], inplace=True)\n",
        "scores"
      ],
      "metadata": {
        "id": "-8EaYfJ-DDoW"
      },
      "execution_count": null,
      "outputs": []
    },
    {
      "cell_type": "markdown",
      "source": [
        "## 특정 컬럼명 바꾸기\n",
        "* 데이터프레임.**rename**(columns={'현재컬럼명1':'바꿀컬럼명1','현재컬럼명2':'바꿀컬럼명2',...})\n",
        "  * 원본에 반영하려면 inplace=True 옵션을 부여합니다."
      ],
      "metadata": {
        "id": "IUGhbWsaNQT1"
      }
    },
    {
      "cell_type": "code",
      "source": [
        "scores.rename(columns={'이름': 'name'})"
      ],
      "metadata": {
        "id": "FVEs8h9kDEHZ"
      },
      "execution_count": null,
      "outputs": []
    },
    {
      "cell_type": "markdown",
      "source": [
        "## 파생컬럼 추가하기\n",
        "* 다른 컬럼의 값의 연산 결과를 이용하여 파생컬럼을 만들 수 있다.\n",
        "  * **`데이터프레임객체['컬럼명'] = 컬럼간연산`**\n",
        "  * 컬럼이 존재하면 수정, 존재하지 않으면 추가됨"
      ],
      "metadata": {
        "id": "5oamqw5dOCUY"
      }
    },
    {
      "cell_type": "code",
      "source": [
        "scores['평균'] = (scores['국어']+scores['영어']+scores['수학'])/3\n",
        "scores"
      ],
      "metadata": {
        "id": "Hm1RRPWqDEqM"
      },
      "execution_count": null,
      "outputs": []
    },
    {
      "cell_type": "markdown",
      "source": [
        "# 행 변경"
      ],
      "metadata": {
        "id": "jQ1mf1NsNWUE"
      }
    },
    {
      "cell_type": "markdown",
      "source": [
        "## 마지막에 행 추가\n",
        "* 데이터프레임.**append**(추가할데이터, **ignore_index=True**)\n",
        "* 추가할 데이터는 딕셔너리 형태로 전달 : **{컬럼1:값1, 컬럼2:값2,...}**\n",
        "* 데이터프레임의 끝에 행 추가\n",
        "* 기존 인덱스는 무시하고, 인덱스가 새롭게 생성된다."
      ],
      "metadata": {
        "id": "smSXSNGFNcwj"
      }
    },
    {
      "cell_type": "code",
      "source": [
        "# 설정된 값이 아닌 다른 값으로 바꾸어서 지정해보세요.\n",
        "scores = scores.append({'이름': 'john', '성별': 'm', '국어':95, \n",
        "                        '영어':100, '수학':80}, ignore_index=True)\n",
        "scores"
      ],
      "metadata": {
        "id": "9R30K8LdDFXO"
      },
      "execution_count": null,
      "outputs": []
    },
    {
      "cell_type": "markdown",
      "source": [
        "## 인덱스 지정하여 행 추가/수정하기\n",
        "* 데이터프레임.**loc[인덱스] = 추가할데이터**\n",
        "* 데이터프레임.**loc[인덱스] = 수정할데이터**\n",
        "* 인덱스가 존재하면 해당 인덱스의 데이터가 수정된다.\n",
        "* 인덱스가 존재하지 않으면 데이터프레임의 끝에 데이터가 추가된다."
      ],
      "metadata": {
        "id": "d1hVqcOSNiOs"
      }
    },
    {
      "cell_type": "code",
      "source": [
        "# 설정된 값이 아닌 다른 값으로 바꾸어서 지정해보세요.\n",
        "scores.loc[10] = ['john', 'm', 95, 100, 80, (95+100+80)/3]\n",
        "scores.loc[11] = ['kevin', 'm', 70, 80, 90, 80]\n",
        "scores"
      ],
      "metadata": {
        "id": "M71bplIxDF0R"
      },
      "execution_count": null,
      "outputs": []
    },
    {
      "cell_type": "markdown",
      "source": [
        "## 행 삭제\n",
        "* 데이터프레임.**drop**(index=[삭제할인덱스리스트])\n",
        "* 원본 데이터프레임에 적용 : inplace=True"
      ],
      "metadata": {
        "id": "vRLdFc8PNpP7"
      }
    },
    {
      "cell_type": "code",
      "source": [
        "# 위에서 새로 추가했던 행 삭제\n",
        "scores.drop(index=[10, 11], inplace=True)\n",
        "scores"
      ],
      "metadata": {
        "id": "WX121pK0DGbt"
      },
      "execution_count": null,
      "outputs": []
    },
    {
      "cell_type": "markdown",
      "source": [
        "## 특정 인덱스 변경\n",
        "* 데이터프레임.rename(index={'현재인덱스명1':'바꿀인덱스명1','현재인덱스명2':'바꿀인덱스명2',...})\n",
        "  * 원본에 반영하려면 inplace=True 옵션을 부여합니다."
      ],
      "metadata": {
        "id": "Fn3Gt8EYNuCI"
      }
    },
    {
      "cell_type": "code",
      "source": [
        "scores.rename(index={0:1101, 1:1102, 2:1103, 3:1104, 4:1105, \n",
        "                     5:1106, 6:1107, 7:1108, 8:1109, 9:1110}, inplace=True)\n",
        "scores"
      ],
      "metadata": {
        "id": "-pezI__SDG8M"
      },
      "execution_count": null,
      "outputs": []
    },
    {
      "cell_type": "markdown",
      "source": [
        "# 결측치 분석/처리"
      ],
      "metadata": {
        "id": "NO4hmraIe2q7"
      }
    },
    {
      "cell_type": "markdown",
      "source": [
        "## 결측치 확인\n",
        "* 컬럼 별 결측치 갯수 보기\n",
        "  * **`데이터프레임객체.isnull().sum()`**"
      ],
      "metadata": {
        "id": "Vg03xFtsrJPU"
      }
    },
    {
      "cell_type": "code",
      "source": [],
      "metadata": {
        "id": "qLuVVhnzfYWp"
      },
      "execution_count": null,
      "outputs": []
    },
    {
      "cell_type": "markdown",
      "source": [
        "## 결측치 처리\n",
        "* 결측치가 포함된 행 삭제\n",
        "  * **`데이터프레임객체.dropna()`**  : 모두 삭제\n",
        "  * **`데이터프레임객체.dropna (subset=컬럼리스트)`** : 해당 컬럼만 삭제\n",
        "* 결측치를 다른 값으로 채우기\n",
        "  * **`데이터프레임객체.fillna(값)`** 채우기\n",
        "  * **`데이터프레임객체[컬럼].fillna(값)`**\n",
        "  * **`데이터프레임.fillna(method='ffill')`** : 이전값으로 채우기\n",
        "  * **`데이터프레임.fillna(method='bfill')`** : 다음값으로 채우기 \n",
        "  * **`데이터프레임.fillna({'컬럼명1':값1, '컬럼명2':값2,...})`** : 컬럼별로 값을 지정하여 채우기\n",
        "* 결측치를 처리한 결과를 inplace=True 옵션을 사용하여 원본에 반영하거나, 서브셋을 생성하여 사용한다."
      ],
      "metadata": {
        "id": "ielioz0erQpC"
      }
    },
    {
      "cell_type": "code",
      "source": [],
      "metadata": {
        "id": "xXL87c4bOS_T"
      },
      "execution_count": null,
      "outputs": []
    },
    {
      "cell_type": "markdown",
      "source": [
        "# 중복값 처리"
      ],
      "metadata": {
        "id": "Eod-hjI1PZYh"
      }
    },
    {
      "cell_type": "code",
      "source": [
        "# 샘플데이터\n",
        "df = pd.DataFrame({\n",
        "     'brand': ['Yam Yam', 'Yam Yam', 'Endovie', 'Endovie', 'Endovie'],\n",
        "     'style': ['jacket', 'jacket', 'jacket', 'pack', 'pack'],\n",
        "     'rating': [5, 7, 4.5, 10, 9]\n",
        " })\n",
        "df"
      ],
      "metadata": {
        "id": "4s3ukxDGP0X_"
      },
      "execution_count": null,
      "outputs": []
    },
    {
      "cell_type": "markdown",
      "source": [
        "## 중복값 확인\n",
        "* 데이터프레임객체.duplicated()\n",
        "    * keep = 남길 데이터\n",
        "        * 'first' : 처음 데이터 남김\n",
        "        * 'last' : 마지막 데이터 남김\n",
        "        * False : 남기지 않음\n",
        "    * subset = 기준컬럼리스트\n",
        "        * 기준 컬럼값으로 중복여부 확인"
      ],
      "metadata": {
        "id": "ok_f6i7fPcGI"
      }
    },
    {
      "cell_type": "code",
      "source": [
        "# duplicated() 함수 사용하여 중복 값 확인하기"
      ],
      "metadata": {
        "id": "pX0gSm-yEzxX"
      },
      "execution_count": null,
      "outputs": []
    },
    {
      "cell_type": "code",
      "source": [
        "# keep 옵션을 first로 지정하기\n",
        "df.duplicated(keep='first')"
      ],
      "metadata": {
        "id": "jPCeWRF0Po7E"
      },
      "execution_count": null,
      "outputs": []
    },
    {
      "cell_type": "code",
      "source": [
        "# keep 옵션을 last로 지정하기\n"
      ],
      "metadata": {
        "id": "cbwAKqInFQaT"
      },
      "execution_count": null,
      "outputs": []
    },
    {
      "cell_type": "code",
      "source": [
        "# keep 옵션을 False로 지정하기\n"
      ],
      "metadata": {
        "id": "5Q05gjHAFQ2j"
      },
      "execution_count": null,
      "outputs": []
    },
    {
      "cell_type": "code",
      "source": [
        "# subset 사용\n",
        "# df.duplicated(subset='컬럼명')"
      ],
      "metadata": {
        "id": "HO6p91GgEt6Q"
      },
      "execution_count": null,
      "outputs": []
    },
    {
      "cell_type": "markdown",
      "source": [
        "## 중복값 제거\n",
        "* 데이터프레임객체.drop_duplicates()\n",
        "* 원본 데이터프레임에 적용하기 위해 inplace=True 사용"
      ],
      "metadata": {
        "id": "Yw4R0c4HPd0u"
      }
    },
    {
      "cell_type": "markdown",
      "source": [
        "# 자료형 변경\n",
        "* **`데이터프레임객체.astype({컬럼명1:자료형1, 컬럼명2:자료형2...})`**\n",
        "* **`데이터프레임객체[컬럼명]=자료형`**\n",
        "* 변경된 결과를 데이터프레임에 다시 할당한다."
      ],
      "metadata": {
        "id": "HJTa0BQ4hCAS"
      }
    },
    {
      "cell_type": "markdown",
      "source": [
        "# 시계열 자료형"
      ],
      "metadata": {
        "id": "x65vrRxrQiRB"
      }
    },
    {
      "cell_type": "code",
      "source": [
        "# 샘플데이터\n",
        "d = {'이름':['스티븐 호킹','마이클 잭슨','스티브 잡스','로빈 윌리엄스','앨빈 토플러'],\n",
        " '주요경력':['이론 물리학자','가수','CEO','배우','미래학자'],\n",
        " '출생':['1942-01-08','1958-08-29','1955-02-24','1951-07-21','1928-10-04'],\n",
        " '사망':['2018-03-14','2009-06-25','2011-10-05','2014-08-11','2016-06-27'],\n",
        " }\n",
        " \n",
        "df = pd.DataFrame(d)\n",
        "df"
      ],
      "metadata": {
        "id": "m3mrphXKRTGT"
      },
      "execution_count": null,
      "outputs": []
    },
    {
      "cell_type": "markdown",
      "source": [
        "## 시계열 자료형으로 변경\n",
        "* pd.**to_datetime**(컬럼)"
      ],
      "metadata": {
        "id": "g3qf6_PGRVqJ"
      }
    },
    {
      "cell_type": "code",
      "source": [
        "# 출생일을 시계열 자료형으로 변경\n",
        "df['출생'] = pd.to_datetime(df['출생'])\n",
        "df"
      ],
      "metadata": {
        "id": "hveW4IlBDK3H"
      },
      "execution_count": null,
      "outputs": []
    },
    {
      "cell_type": "code",
      "source": [
        "# 사망일을 시계열 자료형으로 변경\n"
      ],
      "metadata": {
        "id": "nc--LT4JF7fy"
      },
      "execution_count": null,
      "outputs": []
    },
    {
      "cell_type": "markdown",
      "source": [
        "## 연, 월, 일, 분기 추출\n",
        "* 컬럼.dt.year\n",
        "* 컬럼.dt.month\n",
        "* 컬럼.dt.day\n",
        "* 컬럼.dt.quarter"
      ],
      "metadata": {
        "id": "4NmaGCW_RZ_T"
      }
    },
    {
      "cell_type": "code",
      "source": [
        "# 출생 년도 추출\n",
        "df['출생'].dt.year"
      ],
      "metadata": {
        "id": "vXOoM3QVDLJ6"
      },
      "execution_count": null,
      "outputs": []
    },
    {
      "cell_type": "code",
      "source": [
        "# 출생 월 추출\n"
      ],
      "metadata": {
        "id": "xmLFDNs_GCjN"
      },
      "execution_count": null,
      "outputs": []
    },
    {
      "cell_type": "code",
      "source": [
        "# 사망 일 추출\n"
      ],
      "metadata": {
        "id": "Cyp0EXwUGC12"
      },
      "execution_count": null,
      "outputs": []
    },
    {
      "cell_type": "code",
      "source": [
        "# 사망 분기 추출\n"
      ],
      "metadata": {
        "id": "AQRZRbYqGDDB"
      },
      "execution_count": null,
      "outputs": []
    },
    {
      "cell_type": "markdown",
      "source": [
        "## 요일, 월이름 추출하기\n",
        "* 컬럼.dt.strftime('%a') : 요약된 요일이름\n",
        "* 컬럼.dt.strftime('%A') : 긴 요일이름\n",
        "* 컬럼.dt.strftime('%w') : 숫자요일(0:일요일)\n",
        "* 컬럼.dt.strgtime('%b') : 요약된 월이름\n",
        "* 컬럼.dt.strftime('%B') : 긴 월이름"
      ],
      "metadata": {
        "id": "GBF16BzCRfAU"
      }
    },
    {
      "cell_type": "code",
      "source": [
        "# 출생 컬럼으로부터 요약된 요일 이름 추출\n",
        "df['출생'].dt.strftime('%a')"
      ],
      "metadata": {
        "id": "EwxbMtyjDLkw"
      },
      "execution_count": null,
      "outputs": []
    },
    {
      "cell_type": "code",
      "source": [
        "# 출생 컬럼으로부터 숫자 요일 추출\n"
      ],
      "metadata": {
        "id": "N91EpT1HGayz"
      },
      "execution_count": null,
      "outputs": []
    },
    {
      "cell_type": "code",
      "source": [
        "# 사망 컬럼으로부터 긴 월 이름 추출\n"
      ],
      "metadata": {
        "id": "nNs6ucdGGacp"
      },
      "execution_count": null,
      "outputs": []
    },
    {
      "cell_type": "markdown",
      "source": [
        "## 날짜 계산"
      ],
      "metadata": {
        "id": "BIhMLjYsRuj8"
      }
    },
    {
      "cell_type": "code",
      "source": [
        "# 사망 날짜에서 출생 날짜의 차이 계산을 통해 사망 당시나이 계산하기\n",
        "df['출생연도'] = df['출생'].dt.year\n",
        "df['사망연도'] = df['사망'].dt.year\n",
        "df['당시나이'] = df['사망연도']-df['출생연도']\n",
        "df"
      ],
      "metadata": {
        "id": "1sFJ743PDMvr"
      },
      "execution_count": null,
      "outputs": []
    },
    {
      "cell_type": "markdown",
      "source": [
        "## datetime 자료형을 인덱스로 만들어 사용하기"
      ],
      "metadata": {
        "id": "veefJBnhRrt2"
      }
    },
    {
      "cell_type": "code",
      "source": [
        "# 주민번호를 만들어 인덱스로 지정하기\n",
        "people_number = df['출생'].dt.strftime(\"%y\") + df['출생'].dt.strftime(\"%m\") + df['출생'].dt.strftime(\"%d\")\n",
        "df.set_index(people_number, inplace=True)\n",
        "df.index.rename('주민번호', inplace=True)\n",
        "df"
      ],
      "metadata": {
        "id": "ZjLY4dxEDMLh"
      },
      "execution_count": null,
      "outputs": []
    }
  ]
}